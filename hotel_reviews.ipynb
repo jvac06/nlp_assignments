{
 "cells": [
  {
   "cell_type": "code",
   "execution_count": 299,
   "source": [
    "import pandas as pd\n",
    "import numpy as np\n",
    "import re\n",
    "import nltk\n",
    "import spacy\n",
    "import seaborn as sns\n",
    "import matplotlib.pyplot as plt\n",
    "\n",
    "from typing import Union\n",
    "from collections import Counter\n",
    "from tqdm.notebook import tqdm\n",
    "from spacy.language import Language\n",
    "from nltk.stem import WordNetLemmatizer\n",
    "from nltk.sentiment.vader import SentimentIntensityAnalyzer\n",
    "from ipywidgets import Dropdown, interactive\n",
    "from sklearn.preprocessing import minmax_scale\n",
    "from sklearn.linear_model import LinearRegression\n",
    "\n",
    "pd.set_option('display.max_columns', 30)\n"
   ],
   "outputs": [],
   "metadata": {}
  },
  {
   "cell_type": "markdown",
   "source": [
    "# Sourcing Data"
   ],
   "metadata": {}
  },
  {
   "cell_type": "code",
   "execution_count": 4,
   "source": [
    "# Changing path for local file read\n",
    "PATH = 'BookingDotCom_HotelReviews.xlsx'\n",
    "# Reading Data\n",
    "df = pd.read_excel(PATH)"
   ],
   "outputs": [],
   "metadata": {}
  },
  {
   "cell_type": "markdown",
   "source": [
    "# Questions"
   ],
   "metadata": {}
  },
  {
   "cell_type": "markdown",
   "source": [
    "## 1. What are the top hotel features that guests talk about the most in their Booking.com reviews? Since this is a copy-and-paste from class handout, no points are assigned for this question. (0 point)\n"
   ],
   "metadata": {}
  },
  {
   "cell_type": "code",
   "execution_count": 291,
   "source": [
    "# Fetching Spacy English Library\n",
    "nlp = spacy.load('en_core_web_sm')\n",
    "\n",
    "# Removing if stopper already in pipelin\n",
    "if 'custom_sentence_stop' in nlp.pipe_names:\n",
    "    nlp.remove_pipe('custom_sentence_stop')\n",
    "\n",
    "# Pipeline cleaning function\n",
    "@Language.component('custom_sentence_stop')\n",
    "def add_custom_sentence_stop(doc):\n",
    "    \"\"\"Adds a sentence beginnings where capitalized words begin as long as they are not pronouns\n",
    "        - doc(spacy.Doc): text\n",
    "    \n",
    "    Returns: Doc string with sentence delimiters\n",
    "    \"\"\"\n",
    "    for token in doc[:-1]:\n",
    "        if token.is_title and (token.text != 'I' and token.pos_ !='PRON'):\n",
    "            doc[token.i].is_sent_start = True\n",
    "            # print(token, 'is new sent start')\n",
    "    return doc\n",
    "\n",
    "# Adding custom cleaning component to Spacy pipeline that will allow us to split by sentences since we have no punctuations\n",
    "nlp.add_pipe('custom_sentence_stop', before='parser')\n",
    "# Checking new step is added\n",
    "nlp.pipe_names"
   ],
   "outputs": [
    {
     "output_type": "execute_result",
     "data": {
      "text/plain": [
       "['tok2vec',\n",
       " 'tagger',\n",
       " 'custom_sentence_stop',\n",
       " 'parser',\n",
       " 'attribute_ruler',\n",
       " 'lemmatizer',\n",
       " 'ner']"
      ]
     },
     "metadata": {},
     "execution_count": 291
    }
   ],
   "metadata": {}
  },
  {
   "cell_type": "code",
   "execution_count": 298,
   "source": [
    "# Sourced from ISM6930 class, returns top nouns\n",
    "def top_features(df=pd.DataFrame) -> Counter:\n",
    "    \"\"\"Returns ordered number of nouns found in the text\"\"\"\n",
    "    lemmatizer = WordNetLemmatizer()\n",
    "    df = df.astype(str)\n",
    "    comment_list = df.tolist()                                     # Convert a Pandas series to a list\n",
    "    comment_list = [c for c in comment_list if pd.isnull(c)==False]\n",
    "    comment_str  = ' '.join(comment_list)                          # Concatenate all comments to one string\n",
    "    words = nltk.word_tokenize(comment_str) \n",
    "    words = [w for w in words if len(w)>2]\n",
    "    words = [lemmatizer.lemmatize(w) for w in words]\n",
    "    tagged = nltk.pos_tag(words, tagset='universal')               # Extract POS tags for each word                               \n",
    "    noun = [w[0] for w in tagged if w[1]=='NOUN']\n",
    "    return nltk.FreqDist(noun)                                     # Return freq distribution counter of NOUN strings"
   ],
   "outputs": [],
   "metadata": {}
  },
  {
   "cell_type": "code",
   "execution_count": 36,
   "source": [
    "# Creating series of Reviews for each type. Not inclusive of empty. Also lowercaps\n",
    "dpos = df['Positive_Review'][df['Positive_Review']!=\"No Positive\"].str.lower()\n",
    "dneg = df['Negative_Review'][df['Negative_Review']!=\"No Negative\"].str.lower()\n",
    "\n",
    "# Fetching top features from each comment list\n",
    "pos_features = top_features(dpos)\n",
    "neg_features = top_features(dneg)\n",
    "\n",
    "# Showing most common 20 for selection\n",
    "print('Most Common Positive:')\n",
    "print(pos_features.most_common(20))\n",
    "print('Most Common Negative:')\n",
    "print(neg_features.most_common(20))"
   ],
   "outputs": [
    {
     "output_type": "stream",
     "name": "stdout",
     "text": [
      "Most Common Positive:\n",
      "[('staff', 196634), ('location', 191641), ('room', 181116), ('wa', 133273), ('hotel', 128633), ('breakfast', 80076), ('bed', 46446), ('station', 32140), ('service', 27260), ('everything', 27137), ('restaurant', 22642), ('bar', 22327), ('view', 21522), ('area', 18746), ('bathroom', 18371), ('facility', 17216), ('stay', 17207), ('food', 16764), ('reception', 15571), ('city', 15399)]\n",
      "Most Common Negative:\n",
      "[('room', 210828), ('wa', 123215), ('hotel', 79411), ('breakfast', 54091), ('staff', 39979), ('nothing', 38789), ('night', 28380), ('bed', 28059), ('bathroom', 27454), ('time', 23604), ('day', 20785), ('service', 20382), ('bit', 20140), ('bar', 19483), ('price', 18069), ('didn', 16925), ('floor', 16542), ('reception', 16428), ('door', 14536), ('water', 14318)]\n"
     ]
    }
   ],
   "metadata": {}
  },
  {
   "cell_type": "code",
   "execution_count": 297,
   "source": [
    "\"\"\"\n",
    "The top selected features per each class\n",
    "\"\"\"\n",
    "\n",
    "def filter_top_features(positive:Counter, negative:Counter, excluded_words:list, top_num:int=5) -> dict:\n",
    "    \"\"\"Returns top number of selected features for each class\n",
    "        - positive(Counter): top positive words \n",
    "        - negative(Counter): top negative words \n",
    "        - excluded_words(List): list to exclude\n",
    "        - top_bum: number of features to keep\n",
    "    \"\"\"\n",
    "    final_selected = dict()\n",
    "    features = {'positive':positive, 'negative':negative}\n",
    "    for name, feature in features.items() :\n",
    "        selected = list()\n",
    "        # getting top words in order\n",
    "        num = 0\n",
    "        for key, value in feature.most_common(10):\n",
    "            if num == top_num: break\n",
    "            # passing if in excluded list\n",
    "            if key in excluded_words:\n",
    "                continue\n",
    "            # adding word to list\n",
    "            selected.append(key)\n",
    "            num += 1\n",
    "        final_selected.update({name:selected})\n",
    "    return final_selected\n",
    "\n",
    "# excluding words that don't make sense\n",
    "excluded = ['wa', 'nothing', 'night']\n",
    "# selecting top features per class\n",
    "selected_features = filter_top_features(pos_features, neg_features, excluded)\n",
    "\n",
    "selected_features"
   ],
   "outputs": [
    {
     "output_type": "execute_result",
     "data": {
      "text/plain": [
       "{'positive': ['staff', 'location', 'room', 'hotel', 'breakfast'],\n",
       " 'negative': ['room', 'hotel', 'breakfast', 'staff', 'bed']}"
      ]
     },
     "metadata": {},
     "execution_count": 297
    }
   ],
   "metadata": {}
  },
  {
   "cell_type": "markdown",
   "source": [
    "After appropriate cleaning and selection of nouns, we end with the top features for each review type (positve/negative). Most features seem to align except with location (positive), bed (negative). If we are to consolidate these we would end up with top 6 words:\n",
    "\n",
    "1. staff\n",
    "2. room \n",
    "3. hotel \n",
    "4. breakfast\n",
    "5. location \n",
    "6. bed"
   ],
   "metadata": {}
  },
  {
   "cell_type": "markdown",
   "source": [
    "## 2. Score each guest review along each of the above features. Note that features that are not mentioned in a given review should receive no score for that review. You may use the approach discussed in class or a different approach of your choice. (4 points)"
   ],
   "metadata": {}
  },
  {
   "cell_type": "code",
   "execution_count": 12,
   "source": [
    "\"\"\"Cleaning function\"\"\"\n",
    "\n",
    "def clean_reviews(df):\n",
    "    \"\"\"Ensures all comments are string types and removes Empty review tags to empty strings.\"\"\"\n",
    "    # Replacing with Empty string\n",
    "    df.loc[df['Positive_Review'] == \"No Positive\", 'Positive_Review'] = \"\"\n",
    "    df.loc[df['Negative_Review'] == \"No Negative\", 'Negative_Review'] = \"\"\n",
    "    # Ensuring all are str type\n",
    "    df['Positive_Review'] = df['Positive_Review'].astype(str)\n",
    "    df['Negative_Review'] = df['Negative_Review'].astype(str)\n",
    "    return df\n",
    "    \n",
    "df = clean_reviews(df)\n"
   ],
   "outputs": [],
   "metadata": {}
  },
  {
   "cell_type": "code",
   "execution_count": 23,
   "source": [
    "\"\"\"\n",
    "Creating steps to extract sentences with top features per each review comment and score sentiment related to that feature in the sentence.\n",
    "\"\"\"\n",
    "\n",
    "def extract_sentence(review:str,top_features:list) -> dict:\n",
    "    \"\"\"\n",
    "    Given a review and a list of top features returns a dictonary of each sentence that mentions such feature\n",
    "    - review: string of review\n",
    "    - top_features: list of top features\n",
    "    \"\"\"\n",
    "    feature_sents = dict()\n",
    "    # compiles features into regex for matching\n",
    "    features = \".|\".join(top_features)\n",
    "    re_compiled = re.compile(features)\n",
    "    # if review mentions feature extract sentences\n",
    "    if re.search(re_compiled, review.lower()):\n",
    "        doc = nlp(review)\n",
    "        for feature in top_features:\n",
    "            sents = list()\n",
    "            for sent in doc.sents:\n",
    "                if feature in sent.text.lower():\n",
    "                    # append sentence\n",
    "                    sents.append(sent.text)\n",
    "            # add feature and sentence pairs\n",
    "            feature_sents.update({feature:sents})\n",
    "    return feature_sents\n",
    "\n",
    "\n",
    "def get_sentiment(feature_sents:dict) -> Union[float, np.nan]:\n",
    "    \"\"\"Given a sentence(s) scores sentiment per each and averages if mentioned mulitple times. If not mentioned returns null\n",
    "        - feature_sents(dict): dictionary of feature and sen sentence\n",
    "    \"\"\"\n",
    "    analyzer = SentimentIntensityAnalyzer()\n",
    "    feature_score = dict()\n",
    "    for feature, sent_list in feature_sents.items():\n",
    "        score = list()\n",
    "        # add if sent_list greater than 1 average\n",
    "        for sent in sent_list:\n",
    "            compound_value = analyzer.polarity_scores(sent)['compound']\n",
    "            # print(sent, compound_value)\n",
    "            score.append(compound_value)\n",
    "        if len(score) > 1:\n",
    "            score = np.mean(score)\n",
    "        elif len(score) == 0:\n",
    "            score = np.nan\n",
    "        else:\n",
    "            score = score.pop()\n",
    "        feature_score.update({feature:score})\n",
    "    return feature_score\n",
    "\n",
    "def score_features(df:pd.DataFrame, selected_features:dict) -> pd.DataFrame:\n",
    "    \"\"\"Master function to score all reviews. Returns a dataframe with scores for each top feature prefixed by their review type(positive/negative). \n",
    "    \n",
    "    Progress used for time measurement of task for big data analysis\n",
    "        - df: dataframe with reviews\n",
    "        - selected features for analysis\n",
    "    \n",
    "    Returns: dataframe with scores\n",
    "    \"\"\"\n",
    "    pbar = tqdm(total = int(df.shape[0]) *2)\n",
    "    for key, top_features in selected_features.items():\n",
    "        feat_type = key\n",
    "        prefix_ = feat_type[:3]\n",
    "        column_name = feat_type.capitalize() + \"_Review\"\n",
    "        ## assign scores per feature set\n",
    "        for index, row in df.iterrows():\n",
    "            review = row[column_name]\n",
    "            feature_sents = extract_sentence(review, top_features)\n",
    "            feature_scores = get_sentiment(feature_sents)\n",
    "            for key, value in feature_scores.items():\n",
    "                df.loc[index, prefix_ +'_'+ key] = value\n",
    "            pbar.update(1)\n",
    "    pbar.close()\n",
    "    return df"
   ],
   "outputs": [],
   "metadata": {}
  },
  {
   "cell_type": "code",
   "execution_count": 24,
   "source": [
    "\"\"\" \n",
    "Scoring all features. \n",
    "\n",
    "NOTE: this task took 5.5 hours to complete. Pickled file included for analysis in cell below\n",
    "\"\"\"\n",
    "\n",
    "df = score_features(df, selected_features)\n",
    "df.head()"
   ],
   "outputs": [
    {
     "output_type": "display_data",
     "data": {
      "application/vnd.jupyter.widget-view+json": {
       "version_major": 2,
       "version_minor": 0,
       "model_id": "ca15bd71fb2f40c9bb90085647400233"
      },
      "text/plain": [
       "  0%|          | 0/1031476 [00:00<?, ?it/s]"
      ]
     },
     "metadata": {}
    },
    {
     "output_type": "execute_result",
     "data": {
      "text/html": [
       "<div>\n",
       "<style scoped>\n",
       "    .dataframe tbody tr th:only-of-type {\n",
       "        vertical-align: middle;\n",
       "    }\n",
       "\n",
       "    .dataframe tbody tr th {\n",
       "        vertical-align: top;\n",
       "    }\n",
       "\n",
       "    .dataframe thead th {\n",
       "        text-align: right;\n",
       "    }\n",
       "</style>\n",
       "<table border=\"1\" class=\"dataframe\">\n",
       "  <thead>\n",
       "    <tr style=\"text-align: right;\">\n",
       "      <th></th>\n",
       "      <th>Hotel_Name</th>\n",
       "      <th>Hotel_Address</th>\n",
       "      <th>Review_Count</th>\n",
       "      <th>Non_Review_Scoring_Count</th>\n",
       "      <th>Average_Hotel_Score</th>\n",
       "      <th>Review_Date</th>\n",
       "      <th>Reviewer_Nationality</th>\n",
       "      <th>Positive_Review</th>\n",
       "      <th>Negative_Review</th>\n",
       "      <th>Total_Reviewer_Reviews</th>\n",
       "      <th>...</th>\n",
       "      <th>neg_room</th>\n",
       "      <th>neg_hotel</th>\n",
       "      <th>neg_breakfast</th>\n",
       "      <th>neg_staff</th>\n",
       "      <th>neg_bed</th>\n",
       "      <th>pos_staff</th>\n",
       "      <th>pos_location</th>\n",
       "      <th>pos_room</th>\n",
       "      <th>pos_hotel</th>\n",
       "      <th>pos_breakfast</th>\n",
       "    </tr>\n",
       "  </thead>\n",
       "  <tbody>\n",
       "    <tr>\n",
       "      <th>0</th>\n",
       "      <td>Hotel Arena</td>\n",
       "      <td>s Gravesandestraat 55 Oost 1092 AA Amsterdam ...</td>\n",
       "      <td>1403</td>\n",
       "      <td>194</td>\n",
       "      <td>7.7</td>\n",
       "      <td>2017-08-03</td>\n",
       "      <td>Russia</td>\n",
       "      <td>Only the park outside of the hotel was beauti...</td>\n",
       "      <td>I am so angry that i made this post available...</td>\n",
       "      <td>7</td>\n",
       "      <td>...</td>\n",
       "      <td>-0.053022</td>\n",
       "      <td>0.0000</td>\n",
       "      <td>NaN</td>\n",
       "      <td>NaN</td>\n",
       "      <td>NaN</td>\n",
       "      <td>NaN</td>\n",
       "      <td>NaN</td>\n",
       "      <td>NaN</td>\n",
       "      <td>0.5994</td>\n",
       "      <td>NaN</td>\n",
       "    </tr>\n",
       "    <tr>\n",
       "      <th>1</th>\n",
       "      <td>Hotel Arena</td>\n",
       "      <td>s Gravesandestraat 55 Oost 1092 AA Amsterdam ...</td>\n",
       "      <td>1403</td>\n",
       "      <td>194</td>\n",
       "      <td>7.7</td>\n",
       "      <td>2017-08-03</td>\n",
       "      <td>Ireland</td>\n",
       "      <td>No real complaints the hotel was great great ...</td>\n",
       "      <td></td>\n",
       "      <td>7</td>\n",
       "      <td>...</td>\n",
       "      <td>NaN</td>\n",
       "      <td>NaN</td>\n",
       "      <td>NaN</td>\n",
       "      <td>NaN</td>\n",
       "      <td>NaN</td>\n",
       "      <td>0.0276</td>\n",
       "      <td>0.6486</td>\n",
       "      <td>0.6486</td>\n",
       "      <td>0.6486</td>\n",
       "      <td>NaN</td>\n",
       "    </tr>\n",
       "    <tr>\n",
       "      <th>2</th>\n",
       "      <td>Hotel Arena</td>\n",
       "      <td>s Gravesandestraat 55 Oost 1092 AA Amsterdam ...</td>\n",
       "      <td>1403</td>\n",
       "      <td>194</td>\n",
       "      <td>7.7</td>\n",
       "      <td>2017-07-31</td>\n",
       "      <td>Australia</td>\n",
       "      <td>Location was good and staff were ok It is cut...</td>\n",
       "      <td>Rooms are nice but for elderly a bit difficul...</td>\n",
       "      <td>9</td>\n",
       "      <td>...</td>\n",
       "      <td>-0.393950</td>\n",
       "      <td>NaN</td>\n",
       "      <td>NaN</td>\n",
       "      <td>NaN</td>\n",
       "      <td>NaN</td>\n",
       "      <td>0.6249</td>\n",
       "      <td>0.6249</td>\n",
       "      <td>NaN</td>\n",
       "      <td>0.7003</td>\n",
       "      <td>0.7003</td>\n",
       "    </tr>\n",
       "    <tr>\n",
       "      <th>3</th>\n",
       "      <td>Hotel Arena</td>\n",
       "      <td>s Gravesandestraat 55 Oost 1092 AA Amsterdam ...</td>\n",
       "      <td>1403</td>\n",
       "      <td>194</td>\n",
       "      <td>7.7</td>\n",
       "      <td>2017-07-31</td>\n",
       "      <td>United Kingdom</td>\n",
       "      <td>Great location in nice surroundings the bar a...</td>\n",
       "      <td>My room was dirty and I was afraid to walk ba...</td>\n",
       "      <td>1</td>\n",
       "      <td>...</td>\n",
       "      <td>-0.012800</td>\n",
       "      <td>-0.3174</td>\n",
       "      <td>NaN</td>\n",
       "      <td>0.4019</td>\n",
       "      <td>0.3533</td>\n",
       "      <td>NaN</td>\n",
       "      <td>0.9260</td>\n",
       "      <td>NaN</td>\n",
       "      <td>NaN</td>\n",
       "      <td>NaN</td>\n",
       "    </tr>\n",
       "    <tr>\n",
       "      <th>4</th>\n",
       "      <td>Hotel Arena</td>\n",
       "      <td>s Gravesandestraat 55 Oost 1092 AA Amsterdam ...</td>\n",
       "      <td>1403</td>\n",
       "      <td>194</td>\n",
       "      <td>7.7</td>\n",
       "      <td>2017-07-24</td>\n",
       "      <td>New Zealand</td>\n",
       "      <td>Amazing location and building Romantic setting</td>\n",
       "      <td>You When I booked with your company on line y...</td>\n",
       "      <td>3</td>\n",
       "      <td>...</td>\n",
       "      <td>-0.159100</td>\n",
       "      <td>NaN</td>\n",
       "      <td>NaN</td>\n",
       "      <td>0.0000</td>\n",
       "      <td>NaN</td>\n",
       "      <td>NaN</td>\n",
       "      <td>0.5859</td>\n",
       "      <td>NaN</td>\n",
       "      <td>NaN</td>\n",
       "      <td>NaN</td>\n",
       "    </tr>\n",
       "  </tbody>\n",
       "</table>\n",
       "<p>5 rows × 22 columns</p>\n",
       "</div>"
      ],
      "text/plain": [
       "    Hotel_Name                                      Hotel_Address  \\\n",
       "0  Hotel Arena   s Gravesandestraat 55 Oost 1092 AA Amsterdam ...   \n",
       "1  Hotel Arena   s Gravesandestraat 55 Oost 1092 AA Amsterdam ...   \n",
       "2  Hotel Arena   s Gravesandestraat 55 Oost 1092 AA Amsterdam ...   \n",
       "3  Hotel Arena   s Gravesandestraat 55 Oost 1092 AA Amsterdam ...   \n",
       "4  Hotel Arena   s Gravesandestraat 55 Oost 1092 AA Amsterdam ...   \n",
       "\n",
       "   Review_Count  Non_Review_Scoring_Count  Average_Hotel_Score Review_Date  \\\n",
       "0          1403                       194                  7.7  2017-08-03   \n",
       "1          1403                       194                  7.7  2017-08-03   \n",
       "2          1403                       194                  7.7  2017-07-31   \n",
       "3          1403                       194                  7.7  2017-07-31   \n",
       "4          1403                       194                  7.7  2017-07-24   \n",
       "\n",
       "  Reviewer_Nationality                                    Positive_Review  \\\n",
       "0              Russia    Only the park outside of the hotel was beauti...   \n",
       "1             Ireland    No real complaints the hotel was great great ...   \n",
       "2           Australia    Location was good and staff were ok It is cut...   \n",
       "3      United Kingdom    Great location in nice surroundings the bar a...   \n",
       "4         New Zealand     Amazing location and building Romantic setting    \n",
       "\n",
       "                                     Negative_Review  Total_Reviewer_Reviews  \\\n",
       "0   I am so angry that i made this post available...                       7   \n",
       "1                                                                          7   \n",
       "2   Rooms are nice but for elderly a bit difficul...                       9   \n",
       "3   My room was dirty and I was afraid to walk ba...                       1   \n",
       "4   You When I booked with your company on line y...                       3   \n",
       "\n",
       "   ...  neg_room neg_hotel  neg_breakfast  neg_staff  neg_bed  pos_staff  \\\n",
       "0  ... -0.053022    0.0000            NaN        NaN      NaN        NaN   \n",
       "1  ...       NaN       NaN            NaN        NaN      NaN     0.0276   \n",
       "2  ... -0.393950       NaN            NaN        NaN      NaN     0.6249   \n",
       "3  ... -0.012800   -0.3174            NaN     0.4019   0.3533        NaN   \n",
       "4  ... -0.159100       NaN            NaN     0.0000      NaN        NaN   \n",
       "\n",
       "   pos_location  pos_room  pos_hotel  pos_breakfast  \n",
       "0           NaN       NaN     0.5994            NaN  \n",
       "1        0.6486    0.6486     0.6486            NaN  \n",
       "2        0.6249       NaN     0.7003         0.7003  \n",
       "3        0.9260       NaN        NaN            NaN  \n",
       "4        0.5859       NaN        NaN            NaN  \n",
       "\n",
       "[5 rows x 22 columns]"
      ]
     },
     "metadata": {},
     "execution_count": 24
    }
   ],
   "metadata": {}
  },
  {
   "cell_type": "code",
   "execution_count": 300,
   "source": [
    "\"\"\"Saving and reading from pickled file for speed and reproduction\"\"\"\n",
    "\n",
    "# df.to_pickle('hotel_reviews.pkl')\n",
    "df = pd.read_pickle('hotel_reviews.pkl')"
   ],
   "outputs": [],
   "metadata": {}
  },
  {
   "cell_type": "code",
   "execution_count": 301,
   "source": [
    "\"\"\"Combines features for both positive and negative comments into top 6 reviews\"\"\"\n",
    "\n",
    "# Selecting feature columns for negative and positive comments\n",
    "score_cols = [col for col in df if col.startswith('neg') or col.startswith('pos')]\n",
    "\n",
    "# creating averaging features per review\n",
    "for score in score_cols:\n",
    "    pair = [score_pair for score_pair in score_cols if score_pair[4:] == score[4:]]\n",
    "    df[score[4:]] = df[pair].mean(axis=1)"
   ],
   "outputs": [],
   "metadata": {}
  },
  {
   "cell_type": "code",
   "execution_count": 302,
   "source": [
    "# selecting only certaing columns (eliminating separated negative/positive scores)\n",
    "columns = ['Hotel_Name', 'Hotel_Address', 'Review_Count',\n",
    "       'Non_Review_Scoring_Count', 'Average_Hotel_Score', 'Review_Date',\n",
    "       'Reviewer_Nationality', 'Positive_Review', 'Negative_Review',\n",
    "       'Total_Reviewer_Reviews', 'Reviewer_Score', 'Tags', 'room',\n",
    "       'hotel', 'breakfast', 'staff', 'bed', 'location',]\n",
    "       \n",
    "df = df[columns]"
   ],
   "outputs": [],
   "metadata": {}
  },
  {
   "cell_type": "markdown",
   "source": [
    "## 3. Compute the average feature score for each review, and report the correlation between this average score and the “Reviewer_Score” column in the data file. A strong positive correlation (>0.70) would indicate that your scoring mechanism worked. If your correlation was not up to the mark, you may want to explore what you can do to improve it.(1 point)"
   ],
   "metadata": {}
  },
  {
   "cell_type": "code",
   "execution_count": 307,
   "source": [
    "# Creating average feature score\n",
    "cols = ['room','hotel','breakfast','staff','bed', 'location']\n",
    "df['avg_feature_score'] = df[cols].mean(axis=1)"
   ],
   "outputs": [],
   "metadata": {}
  },
  {
   "cell_type": "code",
   "execution_count": 310,
   "source": [
    "\"\"\"Checking correlation\"\"\"\n",
    "df[['avg_feature_score', 'Reviewer_Score']].corr()"
   ],
   "outputs": [
    {
     "output_type": "execute_result",
     "data": {
      "text/html": [
       "<div>\n",
       "<style scoped>\n",
       "    .dataframe tbody tr th:only-of-type {\n",
       "        vertical-align: middle;\n",
       "    }\n",
       "\n",
       "    .dataframe tbody tr th {\n",
       "        vertical-align: top;\n",
       "    }\n",
       "\n",
       "    .dataframe thead th {\n",
       "        text-align: right;\n",
       "    }\n",
       "</style>\n",
       "<table border=\"1\" class=\"dataframe\">\n",
       "  <thead>\n",
       "    <tr style=\"text-align: right;\">\n",
       "      <th></th>\n",
       "      <th>avg_feature_score</th>\n",
       "      <th>Reviewer_Score</th>\n",
       "    </tr>\n",
       "  </thead>\n",
       "  <tbody>\n",
       "    <tr>\n",
       "      <th>avg_feature_score</th>\n",
       "      <td>1.000000</td>\n",
       "      <td>0.505598</td>\n",
       "    </tr>\n",
       "    <tr>\n",
       "      <th>Reviewer_Score</th>\n",
       "      <td>0.505598</td>\n",
       "      <td>1.000000</td>\n",
       "    </tr>\n",
       "  </tbody>\n",
       "</table>\n",
       "</div>"
      ],
      "text/plain": [
       "                   avg_feature_score  Reviewer_Score\n",
       "avg_feature_score           1.000000        0.505598\n",
       "Reviewer_Score              0.505598        1.000000"
      ]
     },
     "metadata": {},
     "execution_count": 310
    }
   ],
   "metadata": {}
  },
  {
   "cell_type": "markdown",
   "source": [
    "Correlation appears to be maximumn of 50.6%, will try to use scaling before creating the average to see if we can improve correlations"
   ],
   "metadata": {}
  },
  {
   "cell_type": "code",
   "execution_count": 311,
   "source": [
    "# Getting current min/max ranges of reviews\n",
    "min_review = df['Reviewer_Score'].min()\n",
    "max_review = df['Reviewer_Score'].max()\n",
    "\n",
    "# Scaling each feature individually before creating average score\n",
    "for col in df[cols].columns:\n",
    "    df[col] = minmax_scale(df[col],(min_review, max_review))\n",
    "\n",
    "# Score scaled. Using scaling before average\n",
    "df['avg_feature_scaled'] = df[cols].mean(axis=1)"
   ],
   "outputs": [],
   "metadata": {}
  },
  {
   "cell_type": "code",
   "execution_count": 313,
   "source": [
    "# Getting correlation of scaled value\n",
    "df[['avg_feature_scaled', 'Reviewer_Score']].corr()"
   ],
   "outputs": [
    {
     "output_type": "execute_result",
     "data": {
      "text/html": [
       "<div>\n",
       "<style scoped>\n",
       "    .dataframe tbody tr th:only-of-type {\n",
       "        vertical-align: middle;\n",
       "    }\n",
       "\n",
       "    .dataframe tbody tr th {\n",
       "        vertical-align: top;\n",
       "    }\n",
       "\n",
       "    .dataframe thead th {\n",
       "        text-align: right;\n",
       "    }\n",
       "</style>\n",
       "<table border=\"1\" class=\"dataframe\">\n",
       "  <thead>\n",
       "    <tr style=\"text-align: right;\">\n",
       "      <th></th>\n",
       "      <th>avg_feature_scaled</th>\n",
       "      <th>Reviewer_Score</th>\n",
       "    </tr>\n",
       "  </thead>\n",
       "  <tbody>\n",
       "    <tr>\n",
       "      <th>avg_feature_scaled</th>\n",
       "      <td>1.000000</td>\n",
       "      <td>0.503543</td>\n",
       "    </tr>\n",
       "    <tr>\n",
       "      <th>Reviewer_Score</th>\n",
       "      <td>0.503543</td>\n",
       "      <td>1.000000</td>\n",
       "    </tr>\n",
       "  </tbody>\n",
       "</table>\n",
       "</div>"
      ],
      "text/plain": [
       "                    avg_feature_scaled  Reviewer_Score\n",
       "avg_feature_scaled            1.000000        0.503543\n",
       "Reviewer_Score                0.503543        1.000000"
      ]
     },
     "metadata": {},
     "execution_count": 313
    }
   ],
   "metadata": {}
  },
  {
   "cell_type": "markdown",
   "source": [
    "Using new feature with individual features scaled before averaging does not seem to improve correlation. It instead decreased to 50.3%"
   ],
   "metadata": {}
  },
  {
   "cell_type": "code",
   "execution_count": 316,
   "source": [
    "# scaling avg feature for plotting in question 5\n",
    "df['avg_feature_score'] = minmax_scale(df['avg_feature_score'],(min_review, max_review))"
   ],
   "outputs": [],
   "metadata": {}
  },
  {
   "cell_type": "markdown",
   "source": [
    "## 4. Compute average feature-wise score for each hotel (across all reviews) and report the correlation between these computed hotel scores and Average_Hotel_Score. (1 point)."
   ],
   "metadata": {}
  },
  {
   "cell_type": "code",
   "execution_count": 318,
   "source": [
    "\"\"\"\n",
    "Creating feature-wise average per each hotel. Grouping by address and name due to duplicate names\n",
    "\"\"\"\n",
    "\n",
    "# Creating average feature-wise values\n",
    "for score in cols:\n",
    "    df['avg_'+ score] = df.groupby(['Hotel_Name', 'Hotel_Address'])[score].transform('mean')\n",
    "\n",
    "# Creating average of all features for feature-wise\n",
    "df['avg_hotel_feature'] = df.groupby(['Hotel_Name', 'Hotel_Address'])['avg_feature_score'].transform('mean')\n",
    "\n",
    "# Getting Correlation with Avg. Hotel Rating\n",
    "df[['avg_' + score for score in cols] + ['Average_Hotel_Score']].corr().iloc[-1,:].sort_values(ascending=False)"
   ],
   "outputs": [
    {
     "output_type": "execute_result",
     "data": {
      "text/plain": [
       "Average_Hotel_Score    1.000000\n",
       "avg_hotel              0.819613\n",
       "avg_room               0.793821\n",
       "avg_staff              0.639965\n",
       "avg_location           0.541598\n",
       "avg_bed                0.290761\n",
       "avg_breakfast          0.279221\n",
       "Name: Average_Hotel_Score, dtype: float64"
      ]
     },
     "metadata": {},
     "execution_count": 318
    }
   ],
   "metadata": {}
  },
  {
   "cell_type": "markdown",
   "source": [
    "It appears that when we look at the correlations feature-wise Hotel and Room feature scores have a correlation above 70%, showing that these appear to be valuable features. Staff follows at 63%. Bed and breakfast appears to have the lowest correlations"
   ],
   "metadata": {}
  },
  {
   "cell_type": "markdown",
   "source": [
    "## 5. Create a dashboard with the following plots: (1) Ten highest rated hotels in Europe (showing your aggregate score and Average_Hotel_Score), (2) Ten highest rated hotels for each of the top five features identified in Question 1. (2 points).\n",
    "\n"
   ],
   "metadata": {}
  },
  {
   "cell_type": "code",
   "execution_count": 319,
   "source": [
    "# Checking number of unique hotel rows\n",
    "size = df[['Hotel_Name', 'Hotel_Address']].drop_duplicates().shape[0]\n",
    "print(f'Unique hotel rows before drop: {size}')\n",
    "\n",
    "# Selecting columns and dropping rest\n",
    "columns = ['Hotel_Name', 'Hotel_Address', 'Review_Count',\n",
    "       'Non_Review_Scoring_Count', 'Average_Hotel_Score', 'avg_hotel_feature',\n",
    "       'avg_room', 'avg_hotel', 'avg_breakfast', 'avg_staff', 'avg_bed',\n",
    "       'avg_location']\n",
    "hotels = df[columns].drop_duplicates()\n",
    "\n",
    "# After drop size check\n",
    "print(f'Unique hotel rows before drop: {hotels.shape[0]}')\n"
   ],
   "outputs": [
    {
     "output_type": "stream",
     "name": "stdout",
     "text": [
      "Unique hotel rows before drop: 1494\n",
      "Unique hotel rows before drop: 1494\n"
     ]
    }
   ],
   "metadata": {}
  },
  {
   "cell_type": "code",
   "execution_count": 324,
   "source": [
    "# Sorting the values by avg_hotel_score and average features\n",
    "hotels = hotels.sort_values(['Average_Hotel_Score', 'avg_hotel_feature'], ascending=False)"
   ],
   "outputs": [],
   "metadata": {}
  },
  {
   "cell_type": "code",
   "execution_count": 326,
   "source": [
    "\"\"\"The top 10 hotels, with the exception of the Ritz, appear to have high feature scores of around 8 points, showing some parity between features and scores\"\"\"\n",
    "\n",
    "# Selecting top 10 hotels with calculated score and score from review\n",
    "top_hotels_agg = pd.melt(hotels[['Hotel_Name','Average_Hotel_Score', 'avg_hotel_feature']]\n",
    "    .iloc[:10]\n",
    "    .rename(\n",
    "        columns={\n",
    "            'avg_hotel_feature':'Avg. Feature Score', \n",
    "            'Average_Hotel_Score':'Avg. Hotel Score'}), \n",
    "        id_vars=['Hotel_Name'])\n",
    "\n",
    "# Plotting top 10 hotels\n",
    "plt.figure(figsize=(16,8), num=None)\n",
    "sns.barplot(y='value',\n",
    "             x='Hotel_Name',\n",
    "             hue='variable',\n",
    "             data=top_hotels_agg)\n",
    "plt.xticks(rotation=80)\n",
    "plt.title('Top 10 Hotel by Total and Avg. Features Ratings')\n",
    "plt.ylabel('Rating')\n",
    "plt.show()"
   ],
   "outputs": [
    {
     "output_type": "display_data",
     "data": {
      "image/png": "[encoded data removed]",
      "text/plain": [
       "<Figure size 1152x576 with 1 Axes>"
      ]
     },
     "metadata": {
      "needs_background": "light"
     }
    }
   ],
   "metadata": {}
  },
  {
   "cell_type": "code",
   "execution_count": 331,
   "source": [
    "# Saving to read from Github\n",
    "# hotels.to_csv('aggregated_hotels.csv', index=False)"
   ],
   "outputs": [],
   "metadata": {}
  },
  {
   "cell_type": "code",
   "execution_count": 332,
   "source": [
    "\"\"\"Creating plot of top 10 hotels by feature\"\"\"\n",
    "\n",
    "# Read data from github to reproduce interactive dashboard\n",
    "hotels = pd.read_csv(\"https://raw.githubusercontent.com/jvac06/nlp_assignments/main/aggregated_hotels.csv\")\n",
    "\n",
    "# Creating Dropdown menu with features\n",
    "feature_dropdown = Dropdown(\n",
    "    options= [(feature.capitalize(),'avg_'+ feature) for feature in ['room', 'hotel', 'breakfast', 'staff', 'bed', 'location']],\n",
    "    value='avg_room',\n",
    "    description='Feature:')\n",
    "\n",
    "def update_plot(feature:str) -> None:\n",
    "    \"\"\"Feeds selected feature from drop down and returns sorted top 10 hotels by this feature\n",
    "        - feature: selected feature from drop down\n",
    "    \"\"\"\n",
    "    plt.figure(figsize=(20,8), num=None)\n",
    "    sns.barplot(x='Hotel_Name',\n",
    "    y=feature,\n",
    "    # Top 10 Sorted data by feature\n",
    "    data=hotels.sort_values(feature,ascending=False).iloc[:10])\n",
    "    plt.xticks(rotation=60)\n",
    "    name = feature.split(\"_\")[1].capitalize() + ' Feature'\n",
    "    plt.title(f'Top 10 Hotel by {name}')\n",
    "    plt.ylabel(name)\n",
    "\n",
    "# Shows interactive plot to select feature and plot top 10 hotels\n",
    "interactive(update_plot, feature=feature_dropdown)"
   ],
   "outputs": [
    {
     "output_type": "display_data",
     "data": {
      "application/vnd.jupyter.widget-view+json": {
       "version_major": 2,
       "version_minor": 0,
       "model_id": "ed3dabbffb094418af2f5f260215aa20"
      },
      "text/plain": [
       "interactive(children=(Dropdown(description='Feature:', options=(('Room', 'avg_room'), ('Hotel', 'avg_hotel'), …"
      ]
     },
     "metadata": {}
    }
   ],
   "metadata": {}
  },
  {
   "cell_type": "markdown",
   "source": [
    "The top 10 hotels, with the exception of the Ritz, appear to have high feature scores as well as Avg_Hotel_Scores.\n",
    "\n",
    "For the top 10 hotel by features differ can be seen in the dashboard provided. You must select the feature and the top 10 will be shown. The top one is listed for convinience as well:\n",
    "\n",
    "    - Room: Hotel Eiffel Blomet\n",
    "\n",
    "    - Hotel: Pershing Hall\n",
    "\n",
    "    - Staff: Le Saint Gregoire\n",
    "\n",
    "    - Location: Hotel Eitlk rg\n",
    "    \n",
    "    - Bed: Hotel Dupond Smith"
   ],
   "metadata": {}
  },
  {
   "cell_type": "markdown",
   "source": [
    "## 6. Regress Average_Hotel_Score against the top five feature scores of each hotel, and provide quantitative estimates of how important each feature is for the Average_Hotel_Score. (2 points)"
   ],
   "metadata": {}
  },
  {
   "cell_type": "code",
   "execution_count": 279,
   "source": [
    "\"\"\"Preparing data for linear regression\"\"\"\n",
    "\n",
    "# Removing nulls\n",
    "data = hotels.dropna()\n",
    "\n",
    "# Selecting X values\n",
    "features = ['room', 'hotel', 'breakfast', 'staff', 'bed', 'location']\n",
    "\n",
    "# preparing signal and response variables\n",
    "X = data[['avg_'+ feature for feature in features]]\n",
    "y = data['Average_Hotel_Score']"
   ],
   "outputs": [],
   "metadata": {}
  },
  {
   "cell_type": "code",
   "execution_count": 287,
   "source": [
    "\"\"\"Fitting and Reading coefficients.\"\"\"\n",
    "\n",
    "# Instantiating Linear Regression\n",
    "linear_reg = LinearRegression()\n",
    "# Fitting\n",
    "linear_reg.fit(X, y)\n",
    "# Getting coefficients with names\n",
    "coefficients = dict(zip(features,linear_reg.coef_))\n",
    "coefficients = {k:round(v,3) for k,v in sorted(coefficients.items(), key=lambda item: item[1],reverse=True)}\n",
    "# Top Coeffients by order\n",
    "coefficients"
   ],
   "outputs": [
    {
     "output_type": "execute_result",
     "data": {
      "text/plain": [
       "{'hotel': 0.551,\n",
       " 'room': 0.547,\n",
       " 'staff': 0.189,\n",
       " 'location': 0.025,\n",
       " 'bed': 0.023,\n",
       " 'breakfast': 0.014}"
      ]
     },
     "metadata": {},
     "execution_count": 287
    }
   ],
   "metadata": {}
  },
  {
   "cell_type": "markdown",
   "source": [
    "The top feature scores can be given a quantitative value to the Average Hotel Scores by getting to coefficients of each of these features. Doing this we see that the top 3 features are 1) hotel 2) room and 3) staff.\n",
    "\n",
    "for every point increase in the:\n",
    "\n",
    "- hotel feature, average hotel scores increase by .551 points\n",
    "- room feature, average hotel scores increase by .547 points\n",
    "- staff feature, averge hotel scores increase by .189 points"
   ],
   "metadata": {}
  },
  {
   "cell_type": "markdown",
   "source": [],
   "metadata": {}
  }
 ],
 "metadata": {
  "orig_nbformat": 4,
  "language_info": {
   "name": "python",
   "version": "3.9.4",
   "mimetype": "text/x-python",
   "codemirror_mode": {
    "name": "ipython",
    "version": 3
   },
   "pygments_lexer": "ipython3",
   "nbconvert_exporter": "python",
   "file_extension": ".py"
  },
  "kernelspec": {
   "name": "python3",
   "display_name": "Python 3.9.4 64-bit ('ISM6930-CY7GBNHA': pipenv)"
  },
  "interpreter": {
   "hash": "362f485c7d6c917379e48caad03c1e57af25d2b98a508562e6542c723e433d6a"
  }
 },
 "nbformat": 4,
 "nbformat_minor": 2
}