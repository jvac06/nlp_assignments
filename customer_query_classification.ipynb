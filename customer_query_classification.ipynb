{
 "cells": [
  {
   "cell_type": "code",
   "execution_count": 1,
   "metadata": {},
   "outputs": [],
   "source": [
    "import re\n",
    "import pandas as pd\n",
    "import numpy as np\n",
    "import matplotlib.pyplot as plt\n",
    "import seaborn as sns\n",
    "\n",
    "# plot formatting\n",
    "plt.rcParams[\"figure.figsize\"] = (16,8)"
   ]
  },
  {
   "cell_type": "markdown",
   "metadata": {},
   "source": [
    "This file contains 5000 customer queries at an online retailer, which are classified into seven topics such as \"Shipping\", \"Product Availability\", \"Returns & Refunds\", etc. Your job is to build a multi-class classifier that can automatically classify new incoming queries into these topics, so that they can be handled by the appropriate department.\n",
    "\n",
    "For this assignment, select:\n",
    "\n",
    "1. one multi-class classifier (Naive Bayes, Logistic, Decision Tree, or SVM) whose code is provided in class handouts, \n",
    "\n",
    "2. one ensemble classifier whose code is also provided (Random Forest or XGBoost), and \n",
    "\n",
    "3. one other model of your choice whose code is NOT provided in class handouts (this will require some independent research on the Internet). \n",
    "\n",
    "For each classifier, use three kinds of input feature vectors: \n",
    "\n",
    "1. TF-IDF vector, \n",
    "\n",
    "2. word vectors (Stanford's Glove, Google's Word2Vec, or Facebook's FastText), and \n",
    "\n",
    "3. document vectors (Doc2Vec). \n",
    "\n",
    "Train the three models using training data, report classification metrics using validation data, comment on which model will be your preferred choice for text classification for this data and why. \n",
    "\n",
    "Also, test your model with some (at least 5) self-created queries not in the dataset to check if your three models can classify them accurately. Submit your code and output as a Jupyter file. \n",
    "\n",
    "The assignment will be graded based on your ability to teach yourself a new classifier, your ability to make intelligent choices (e.g., hyper-parameters), and your ability to \"communicate\" your analysis in a comprehensive, understandable manner with proper documentation. Use appropriate graphics if appropriate. The professor or TA will not answer questions such as \"what classification metrics should I report\" or \"should I do dimension reduction before using a classifier\" or \"what type of documentation should I include\". These are choices for YOU to make (you cannot \"outsource\" that thinking to the professor), but your documentation must clearly describe AND EXPLAIN any choices that you make. There will be no credit for copying and pasting code from class handouts. You will be penalized for inadequate documentation; think for yourself what documentation is needed to convey what you did and why you did it to an outsider who does not know anything about this assignment."
   ]
  },
  {
   "cell_type": "markdown",
   "metadata": {},
   "source": [
    "# Source Data"
   ]
  },
  {
   "cell_type": "code",
   "execution_count": 2,
   "metadata": {},
   "outputs": [
    {
     "name": "stdout",
     "output_type": "stream",
     "text": [
      "<class 'pandas.core.frame.DataFrame'>\n",
      "RangeIndex: 5000 entries, 0 to 4999\n",
      "Data columns (total 2 columns):\n",
      " #   Column    Non-Null Count  Dtype \n",
      "---  ------    --------------  ----- \n",
      " 0   question  5000 non-null   object\n",
      " 1   topic     5000 non-null   object\n",
      "dtypes: object(2)\n",
      "memory usage: 78.2+ KB\n",
      "None \n",
      "\n"
     ]
    },
    {
     "data": {
      "text/html": [
       "<div>\n",
       "<style scoped>\n",
       "    .dataframe tbody tr th:only-of-type {\n",
       "        vertical-align: middle;\n",
       "    }\n",
       "\n",
       "    .dataframe tbody tr th {\n",
       "        vertical-align: top;\n",
       "    }\n",
       "\n",
       "    .dataframe thead th {\n",
       "        text-align: right;\n",
       "    }\n",
       "</style>\n",
       "<table border=\"1\" class=\"dataframe\">\n",
       "  <thead>\n",
       "    <tr style=\"text-align: right;\">\n",
       "      <th></th>\n",
       "      <th>question</th>\n",
       "      <th>topic</th>\n",
       "    </tr>\n",
       "  </thead>\n",
       "  <tbody>\n",
       "    <tr>\n",
       "      <th>0</th>\n",
       "      <td>Hi! If I sign up for your email list, can I se...</td>\n",
       "      <td>Sales/Promotions</td>\n",
       "    </tr>\n",
       "    <tr>\n",
       "      <th>1</th>\n",
       "      <td>I'm going to be out of the country for about a...</td>\n",
       "      <td>Shipping</td>\n",
       "    </tr>\n",
       "    <tr>\n",
       "      <th>2</th>\n",
       "      <td>I was wondering if you'd be able to overnight ...</td>\n",
       "      <td>Shipping</td>\n",
       "    </tr>\n",
       "  </tbody>\n",
       "</table>\n",
       "</div>"
      ],
      "text/plain": [
       "                                            question             topic\n",
       "0  Hi! If I sign up for your email list, can I se...  Sales/Promotions\n",
       "1  I'm going to be out of the country for about a...          Shipping\n",
       "2  I was wondering if you'd be able to overnight ...          Shipping"
      ]
     },
     "execution_count": 2,
     "metadata": {},
     "output_type": "execute_result"
    }
   ],
   "source": [
    "data = pd.read_csv('Customer_Service_Questions_Multiclass.csv')\n",
    "print(data.info(), '\\n')\n",
    "data.head(3)"
   ]
  },
  {
   "cell_type": "markdown",
   "metadata": {},
   "source": [
    "# Explore Data"
   ]
  },
  {
   "cell_type": "markdown",
   "metadata": {},
   "source": [
    "## Distribution of Labels\n",
    "\n",
    "Looking at the distribution of each of the 7 query classese. The two smallest classes appear to be `Sales/Promotions` and  `OmniChannel`. We expect that our models may have a harder time trying to classify these. Also the small sample size of 5,000 may better suit ML models over other Deep-Learning models that may require larger datasets for training\n",
    "\n",
    "Taking a closer look at the data it also appears as if some data augmentation has been used. This means more repeated words with certain variations may appear. Not a very diverse set for training could influence impact of the model"
   ]
  },
  {
   "cell_type": "code",
   "execution_count": 3,
   "metadata": {},
   "outputs": [
    {
     "data": {
      "text/plain": [
       "<AxesSubplot:title={'center':'Frequency of Query Categories'}, ylabel='Category'>"
      ]
     },
     "execution_count": 3,
     "metadata": {},
     "output_type": "execute_result"
    },
    {
     "data": {
      "image/png": "[encoded data removed]",
      "text/plain": [
       "<Figure size 1152x576 with 1 Axes>"
      ]
     },
     "metadata": {
      "needs_background": "light"
     },
     "output_type": "display_data"
    }
   ],
   "source": [
    "# See classification categfgories\n",
    "data.topic.value_counts().sort_values().plot(kind='barh', title='Frequency of Query Categories', \n",
    "                                             xlabel='Category', ylabel='Frequency')"
   ]
  },
  {
   "cell_type": "markdown",
   "metadata": {},
   "source": [
    "## Word Cloud per Category"
   ]
  },
  {
   "cell_type": "code",
   "execution_count": 4,
   "metadata": {},
   "outputs": [
    {
     "data": {
      "application/vnd.jupyter.widget-view+json": {
       "model_id": "abf06e498f99430386b745f2aa622af8",
       "version_major": 2,
       "version_minor": 0
      },
      "text/plain": [
       "interactive(children=(Dropdown(description='topic', index=1, options=('Sales/Promotions', 'Shipping', 'Product…"
      ]
     },
     "metadata": {},
     "output_type": "display_data"
    },
    {
     "data": {
      "text/plain": [
       "<function __main__.plot_word_cloud(topic: str = 'Shipping')>"
      ]
     },
     "execution_count": 4,
     "metadata": {},
     "output_type": "execute_result"
    }
   ],
   "source": [
    "from wordcloud import WordCloud\n",
    "from nltk.corpus import stopwords\n",
    "import ipywidgets as widgets\n",
    "\n",
    "\n",
    "def plot_word_cloud(topic:str='Shipping'):\n",
    "    # stop words for removal\n",
    "    STOPWORDS = stopwords.words('english')\n",
    "    # getting text for plotting filtering by topic\n",
    "    text = \" \".join(words for words in data[data['topic'].eq(topic)].question.tolist())\n",
    "    # plotting configuration\n",
    "    plt.figure(figsize=(16,8))\n",
    "    wordcloud = WordCloud(background_color='white', max_words=100, stopwords=STOPWORDS).generate(text)\n",
    "    plt.style.use(\"dark_background\")\n",
    "    plt.axis(\"off\")\n",
    "    plt.imshow(wordcloud, interpolation=\"bilinear\")\n",
    "\n",
    "widgets.interact(plot_word_cloud, topic=data.topic.unique())"
   ]
  },
  {
   "cell_type": "markdown",
   "metadata": {},
   "source": [
    "It appears that there are some key words that seem to be more prevelent depending on the question topic. For example\n",
    "\n",
    "| Topic | Common Word |\n",
    "|---|---|\n",
    "| Availability | Looking|\n",
    "| Sale/Promo | Sale |\n",
    "| Shipping | Receive |\n",
    "| Specifications | Know |\n",
    "| Ominchannel | Store |"
   ]
  },
  {
   "cell_type": "markdown",
   "metadata": {},
   "source": [
    "# Prepare Data\n"
   ]
  },
  {
   "cell_type": "markdown",
   "metadata": {},
   "source": [
    "Converting raw data to Textacy (Spacy) docs in batches. Loading in batches helps speed-up processing. Spacy also provides improved lemmatization, POS and dependency parsers that can be used for improved cleaning this helps expedite cleaning."
   ]
  },
  {
   "cell_type": "code",
   "execution_count": 5,
   "metadata": {},
   "outputs": [],
   "source": [
    "import textacy\n",
    "\n",
    "\"\"\"Create Textacy Corpus for fast loading\"\"\"\n",
    "# spacy library\n",
    "library = 'en_core_web_sm'\n",
    "# questions\n",
    "questions = data.question.tolist()\n",
    "# meta in dict format\n",
    "topics = [{'topic':topic} for topic in data.topic.tolist()]\n",
    "# create records\n",
    "records = zip(questions, topics)\n",
    "# create corpus\n",
    "corpus = textacy.Corpus(lang=library)\n",
    "# add to corpus\n",
    "corpus.add_records(records=records, batch_size=50, n_process=-1)"
   ]
  },
  {
   "cell_type": "markdown",
   "metadata": {},
   "source": [
    "## Cleaning\n",
    "- using spacy to: remove 1) punctuations, 2) spaces, 3) spaces 4) Numeric POS 5) product codes 6) one letter from contractions (except e for email) 6) any special cases\n",
    "    - removing product item codes using regex pattern"
   ]
  },
  {
   "cell_type": "code",
   "execution_count": 6,
   "metadata": {},
   "outputs": [
    {
     "data": {
      "text/html": [
       "<div>\n",
       "<style scoped>\n",
       "    .dataframe tbody tr th:only-of-type {\n",
       "        vertical-align: middle;\n",
       "    }\n",
       "\n",
       "    .dataframe tbody tr th {\n",
       "        vertical-align: top;\n",
       "    }\n",
       "\n",
       "    .dataframe thead th {\n",
       "        text-align: right;\n",
       "    }\n",
       "</style>\n",
       "<table border=\"1\" class=\"dataframe\">\n",
       "  <thead>\n",
       "    <tr style=\"text-align: right;\">\n",
       "      <th></th>\n",
       "      <th>question</th>\n",
       "      <th>topic</th>\n",
       "      <th>clean_question</th>\n",
       "    </tr>\n",
       "  </thead>\n",
       "  <tbody>\n",
       "    <tr>\n",
       "      <th>0</th>\n",
       "      <td>Hi! If I sign up for your email list, can I se...</td>\n",
       "      <td>Sales/Promotions</td>\n",
       "      <td>hi sign email list select email exclusively sa...</td>\n",
       "    </tr>\n",
       "    <tr>\n",
       "      <th>1</th>\n",
       "      <td>I'm going to be out of the country for about a...</td>\n",
       "      <td>Shipping</td>\n",
       "      <td>go country week travel go get animal print jum...</td>\n",
       "    </tr>\n",
       "    <tr>\n",
       "      <th>2</th>\n",
       "      <td>I was wondering if you'd be able to overnight ...</td>\n",
       "      <td>Shipping</td>\n",
       "      <td>wonder able overnight jacket item trenton nj</td>\n",
       "    </tr>\n",
       "    <tr>\n",
       "      <th>3</th>\n",
       "      <td>The Swingline electronic stapler (472555) look...</td>\n",
       "      <td>Shipping</td>\n",
       "      <td>swingline electronic stapler look great need s...</td>\n",
       "    </tr>\n",
       "    <tr>\n",
       "      <th>4</th>\n",
       "      <td>I think this cosmetic bag would work great for...</td>\n",
       "      <td>Shipping</td>\n",
       "      <td>think cosmetic bag work great know long send k...</td>\n",
       "    </tr>\n",
       "  </tbody>\n",
       "</table>\n",
       "</div>"
      ],
      "text/plain": [
       "                                            question             topic  \\\n",
       "0  Hi! If I sign up for your email list, can I se...  Sales/Promotions   \n",
       "1  I'm going to be out of the country for about a...          Shipping   \n",
       "2  I was wondering if you'd be able to overnight ...          Shipping   \n",
       "3  The Swingline electronic stapler (472555) look...          Shipping   \n",
       "4  I think this cosmetic bag would work great for...          Shipping   \n",
       "\n",
       "                                      clean_question  \n",
       "0  hi sign email list select email exclusively sa...  \n",
       "1  go country week travel go get animal print jum...  \n",
       "2       wonder able overnight jacket item trenton nj  \n",
       "3  swingline electronic stapler look great need s...  \n",
       "4  think cosmetic bag work great know long send k...  "
      ]
     },
     "execution_count": 6,
     "metadata": {},
     "output_type": "execute_result"
    }
   ],
   "source": [
    "# Function to clean words using spacy\n",
    "def clean_spacy_text(doc, exclude:list=[]):\n",
    "    # patterns for removing products/website i.e. alphanumeric product item/asin dash \"-\", number or slash \"\\\" for products\n",
    "    pattern = re.compile(r\"[a-zA-Z]+\\d+[a-zA-Z\\d]+|\\(.+\\)|\\w+\\-\\d+/\\d+|\\d+[-]*|#\\w+|[\\w]+\\-[\\d]+\\-[\\d]+|\\w+-\\d+\" , flags=re.IGNORECASE | re.DOTALL)\n",
    "    # using list comprehensition to do a single pass cleaning\n",
    "    words = [token.lemma_.lower() for token in doc if (not token.is_punct and                                   # removes punctuation\n",
    "                                                       not token.is_stop and                                    # removes whitespace\n",
    "                                                       not token.is_space and                                   # removes stop word\n",
    "                                                       token.pos_ != 'NUM' and                                  # removes numbers\n",
    "                                                       not bool(re.match(pattern, token.text.lower())) and      # removes token matches of product ids\n",
    "                                                       (len(token.text) > 1 or token.text == 'e')and            # removes len text greater than 1 unless e for email\n",
    "                                                       token.lemma_ not in exclude)                             # removes not in exclude list\n",
    "                                                       ]\n",
    "    text = ' '.join(words)\n",
    "    # fix email\n",
    "    text = text.replace('e mail', 'email')\n",
    "    # replace missing punct at end of words i.e. word- or word\\\\\n",
    "    text = re.sub(r\"[$/_\\\\-]+\", \" \", text)\n",
    "    # remove website links\n",
    "    text = re.sub(r\"\\(?https?\\S+\", \"\", text)\n",
    "    # remove single #item\n",
    "    text = re.sub(r\"#\\S+\", \"\", text)\n",
    "    # apped to list of all docs\n",
    "    return text\n",
    "\n",
    "# # iterate through docs apply cleaning\n",
    "cleaned_text = list()\n",
    "for doc in corpus:\n",
    "    text = clean_spacy_text(doc, exclude=[])\n",
    "    cleaned_text.append(text)\n",
    "\n",
    "\n",
    "\n",
    "# add to pandas dataframe\n",
    "data['clean_question'] = cleaned_text\n",
    "data.head()\n"
   ]
  },
  {
   "cell_type": "markdown",
   "metadata": {},
   "source": [
    "## Encoding Label"
   ]
  },
  {
   "cell_type": "code",
   "execution_count": 7,
   "metadata": {},
   "outputs": [],
   "source": [
    "from sklearn.preprocessing import LabelEncoder\n",
    "\n",
    "# Encoding label\n",
    "encoder = LabelEncoder()\n",
    "y = encoder.fit_transform(data.topic)\n",
    "# train data to numpy\n",
    "X = data.clean_question.to_numpy()"
   ]
  },
  {
   "cell_type": "markdown",
   "metadata": {},
   "source": [
    "## Split Train-Test\n",
    "\n",
    "Because of the small sample size and noting that there a lot of synthetic samples, it is preferrable to use a larger training size at 75%"
   ]
  },
  {
   "cell_type": "code",
   "execution_count": 8,
   "metadata": {},
   "outputs": [
    {
     "name": "stdout",
     "output_type": "stream",
     "text": [
      "Train shape X: 4250, y: 4250\n",
      "Test shape X: 750, y: 750\n"
     ]
    }
   ],
   "source": [
    "from sklearn.model_selection import train_test_split\n",
    "\n",
    "# seed for replication\n",
    "seed = 42\n",
    "\n",
    "# Splitting data\n",
    "def get_data_split(X, y, test_size=.15):\n",
    "    X_train, X_test, y_train, y_test = train_test_split(X, y, test_size=test_size, random_state=seed)\n",
    "    if isinstance(X, list):\n",
    "        X_train_size = len(X_train)\n",
    "        X_test_size = len(X_test)\n",
    "    else:\n",
    "        X_train_size = X_train.shape[0]\n",
    "        X_test_size = X_test.shape[0]\n",
    "    print('Train shape X: {}, y: {}'.format(X_train_size, y_train.shape[0]))\n",
    "    print('Test shape X: {}, y: {}'.format(X_test_size, y_test.shape[0]))\n",
    "    return X_train, X_test, y_train, y_test\n",
    "\n",
    "X_train, X_test, y_train, y_test = get_data_split(X, y, test_size=0.15)"
   ]
  },
  {
   "cell_type": "markdown",
   "metadata": {},
   "source": [
    "## TF-IDF\n",
    "- settiing options to include one and bi-grams\n",
    "- Setting max number of features to stop feature explosion"
   ]
  },
  {
   "cell_type": "code",
   "execution_count": 9,
   "metadata": {},
   "outputs": [
    {
     "name": "stdout",
     "output_type": "stream",
     "text": [
      "Before: interested get sumptuous knockout mascara wonder waterproof salt water let know live near ocean want run beach\n",
      "After:\n",
      "   (0, 4773)\t0.31765703623176056\n",
      "  (0, 2132)\t0.2650402074551438\n",
      "  (0, 256)\t0.30062724791207285\n",
      "  (0, 3625)\t0.24013115993458056\n",
      "  (0, 4723)\t0.11310998666141832\n",
      "  (0, 2597)\t0.24480270622493278\n",
      "  (0, 2245)\t0.24868244348656238\n",
      "  (0, 1944)\t0.11979080339388229\n",
      "  (0, 2131)\t0.25295738035300025\n",
      "  (0, 4801)\t0.24605654936208105\n",
      "  (0, 3659)\t0.2223709075355655\n",
      "  (0, 4805)\t0.25606996156736833\n",
      "  (0, 4934)\t0.17187577356234895\n",
      "  (0, 2444)\t0.2764615937077858\n",
      "  (0, 4276)\t0.31765703623176056\n",
      "  (0, 1466)\t0.20992755782584938\n",
      "  (0, 1760)\t0.20345313279075153 \n",
      "<class 'scipy.sparse.csr.csr_matrix'>\n",
      "Shape of X_train: (4250, 5000)\n"
     ]
    }
   ],
   "source": [
    "from sklearn.feature_extraction.text import TfidfVectorizer\n",
    "\n",
    "N_GRAMS = (1,3)                                         # Selecting Grams from 1-3 words\n",
    "MAX_FEATURES = 5000                                     # Limiting the amount of features to help processing speed\n",
    "\n",
    "tfidf = TfidfVectorizer(\n",
    "    ngram_range=N_GRAMS,\n",
    "    max_features=MAX_FEATURES)\n",
    "\n",
    "# Fit & Preview Changes\n",
    "print('Before:', X_train[0])\n",
    "X_train_tfidf = tfidf.fit_transform(X_train)\n",
    "X_test_tfidf = tfidf.transform(X_test)\n",
    "print('After:\\n {} \\n{}'.format(X_train_tfidf[0], type(X_train_tfidf[0])))\n",
    "print('Shape of X_train:', X_train_tfidf.shape)"
   ]
  },
  {
   "cell_type": "markdown",
   "metadata": {},
   "source": [
    "## Word2Vec\n",
    "\n",
    "Because of the smaller text size we are only using 100D per word embeddings - lower dimensionality"
   ]
  },
  {
   "cell_type": "code",
   "execution_count": 10,
   "metadata": {},
   "outputs": [
    {
     "name": "stdout",
     "output_type": "stream",
     "text": [
      "Train shape X: 4250, y: 4250\n",
      "Test shape X: 750, y: 750\n"
     ]
    }
   ],
   "source": [
    "# Creating sentence -> list of tokens\n",
    "def sent_tokenizer(X_data):\n",
    "    X_sent_tokens = []\n",
    "    for line in X_data: \n",
    "        sent = [word for word in line.split()]\n",
    "        X_sent_tokens.append(sent)\n",
    "    return X_sent_tokens\n",
    "\n",
    "X_sent_tokens = sent_tokenizer(X)\n",
    "\n",
    "# get tokens in list format\n",
    "X_train, X_test, y_train, y_test = get_data_split(X_sent_tokens, y)\n"
   ]
  },
  {
   "cell_type": "code",
   "execution_count": 11,
   "metadata": {},
   "outputs": [
    {
     "name": "stdout",
     "output_type": "stream",
     "text": [
      "Train features shape: (4250, 100) \n",
      "Test features shape: (750, 100)\n"
     ]
    }
   ],
   "source": [
    "from gensim.models import Word2Vec\n",
    "\n",
    "EMBEDDING_DIM = 100                                                             # Limiting the number of Embedding dimensions for relatively small dataset should be enough\n",
    "\n",
    "# Training W2V\n",
    "w2v = Word2Vec(X_train, window=8, min_count=2, sample=1e-3, sg=1, workers=8)\n",
    "vocab = set(w2v.wv.index_to_key)\n",
    "\n",
    "# Function to generate average vectors\n",
    "def average_word_vectors(tokens, model, vocabulary, num_features):\n",
    "    feature_vector = np.zeros((num_features,), dtype=\"float64\")\n",
    "    ntokens = 0.\n",
    "    for t in tokens:\n",
    "        if t in vocabulary: \n",
    "            ntokens = ntokens + 1.\n",
    "            feature_vector = np.add(feature_vector, model.wv[t])\n",
    "    if ntokens:\n",
    "        feature_vector = np.divide(feature_vector, ntokens)\n",
    "    return feature_vector\n",
    "\n",
    "# Creating average 100D embeddings per token sentences \n",
    "w2v_train_x = [average_word_vectors(sent_tokens, w2v, vocab, EMBEDDING_DIM) \n",
    "               for sent_tokens in X_train]\n",
    "w2v_test_x = [average_word_vectors(sent_tokens, w2v, vocab, EMBEDDING_DIM) \n",
    "              for sent_tokens in X_test]\n",
    "# To Arrays\n",
    "avg_w2v_train_x = np.array(w2v_train_x)              \n",
    "avg_w2v_test_x = np.array(w2v_test_x)\n",
    "\n",
    "print('Train features shape:', avg_w2v_train_x.shape, \n",
    "      '\\nTest features shape:', avg_w2v_test_x.shape)"
   ]
  },
  {
   "cell_type": "markdown",
   "metadata": {},
   "source": [
    "## Doc2Vec"
   ]
  },
  {
   "cell_type": "code",
   "execution_count": 12,
   "metadata": {},
   "outputs": [],
   "source": [
    "from gensim.models.doc2vec import Doc2Vec, TaggedDocument\n",
    "\n",
    "# Training Doc2Vec\n",
    "docs = [TaggedDocument(doc, [i]) for i, doc in enumerate(X_train)]\n",
    "d2v = Doc2Vec(vector_size=100, window=3, min_count=4, workers=4, epochs=40)\n",
    "d2v.build_vocab(docs)\n",
    "d2v.train(docs, total_examples=d2v.corpus_count, epochs=d2v.epochs)\n",
    "\n",
    "# d2v embedded sets\n",
    "d2v_train_x = [d2v.infer_vector(i) for i in X_train]\n",
    "d2v_test_x =  [d2v.infer_vector(i) for i in X_test]"
   ]
  },
  {
   "cell_type": "markdown",
   "metadata": {},
   "source": [
    "## Getting Datasets prepared for Modeling\n",
    "Creating a master dataset dictionary to be used across models for testing"
   ]
  },
  {
   "cell_type": "code",
   "execution_count": 13,
   "metadata": {},
   "outputs": [],
   "source": [
    "# Dictonary of datasets\n",
    "datasets = {\n",
    "    'TFIDF': {\n",
    "        'train': X_train_tfidf,\n",
    "        'test': X_test_tfidf\n",
    "    },\n",
    "    'Avg W2V Data': {\n",
    "        'train': avg_w2v_train_x,\n",
    "        'test': avg_w2v_test_x,\n",
    "    },\n",
    "    'Doc2Vector Data': {\n",
    "        'train': d2v_train_x,\n",
    "        'test': d2v_test_x\n",
    "    }\n",
    "}\n",
    "# Dictionary of labels\n",
    "labels = {\n",
    "    'train': y_train,\n",
    "    'test': y_test\n",
    "}"
   ]
  },
  {
   "cell_type": "markdown",
   "metadata": {},
   "source": [
    "# Models for text classification\n",
    "Creating a master function that will help us evaluate the multiple models that we will be using for classification.\n",
    "\n",
    "For our models we will be using the weighted F1-score as the main evalution to rate it's performance. This allows us to see the weighted effectiveness of our model in capturing most classes (recall) and getting our class predictions correctly (precision)"
   ]
  },
  {
   "cell_type": "code",
   "execution_count": 14,
   "metadata": {},
   "outputs": [],
   "source": [
    "from sklearn.metrics import classification_report, f1_score, recall_score, precision_score\n",
    "from sklearn.model_selection import cross_val_score\n",
    "from sklearn.base import clone\n",
    "\n",
    "def fit_score(model, model_name, datasets, labels):\n",
    "    list_scores = list()\n",
    "    models = list()\n",
    "    for name, data in datasets.items():\n",
    "        # getting diff model for fitting\n",
    "        model = clone(model)\n",
    "        print(f'Dataset: {name}')\n",
    "        # fit model\n",
    "        model.fit(data['train'], labels['train'])\n",
    "        # cross-validate score\n",
    "        cross_val = cross_val_score(model, X=data['train'], y=labels['train'], scoring='f1_weighted')\n",
    "        print(f'CV Weighted F1-Scores: {cross_val}')\n",
    "        print('Avg CV Score: {}'.format(np.mean(cross_val)))\n",
    "        # predict\n",
    "        y_predict = model.predict(data['test'])\n",
    "        # classification report\n",
    "        target_names = encoder.classes_\n",
    "        # print report\n",
    "        print(classification_report(labels['test'], y_predict, target_names=target_names))\n",
    "        # soring function to iterate\n",
    "        scores_functions = {'Precision':precision_score, 'Recall':recall_score, 'F1 Score': f1_score}\n",
    "        # dictionary for model\n",
    "        model_scores = {'Model': model_name, 'Dataset': name}\n",
    "        # add scores\n",
    "        for name, function in scores_functions.items():\n",
    "            score = function(y_predict, labels['test'], average='weighted')\n",
    "            model_scores[name] = score\n",
    "        # insert into list of scores\n",
    "        list_scores.append(model_scores)\n",
    "        models.append(model)\n",
    "    return models, list_scores"
   ]
  },
  {
   "cell_type": "markdown",
   "metadata": {},
   "source": [
    "## SVM (LinearSVC)"
   ]
  },
  {
   "cell_type": "code",
   "execution_count": 15,
   "metadata": {},
   "outputs": [
    {
     "name": "stdout",
     "output_type": "stream",
     "text": [
      "Dataset: TFIDF\n",
      "CV Weighted F1-Scores: [0.94716739 0.9423865  0.95523986 0.94807148 0.94356655]\n",
      "Avg CV Score: 0.9472863561949751\n",
      "                        precision    recall  f1-score   support\n",
      "\n",
      "           Omnichannel       1.00      1.00      1.00        68\n",
      "  Product Availability       0.93      0.95      0.94       131\n",
      "    Product Comparison       0.90      0.92      0.91       113\n",
      "Product Specifications       0.91      0.91      0.91       117\n",
      "     Returns & Refunds       0.99      1.00      1.00       124\n",
      "      Sales/Promotions       1.00      0.94      0.97        82\n",
      "              Shipping       1.00      1.00      1.00       115\n",
      "\n",
      "              accuracy                           0.96       750\n",
      "             macro avg       0.96      0.96      0.96       750\n",
      "          weighted avg       0.96      0.96      0.96       750\n",
      "\n",
      "Dataset: Avg W2V Data\n",
      "CV Weighted F1-Scores: [0.839214   0.85561033 0.84137026 0.85069685 0.82721351]\n",
      "Avg CV Score: 0.8428209899624791\n",
      "                        precision    recall  f1-score   support\n",
      "\n",
      "           Omnichannel       0.97      0.97      0.97        68\n",
      "  Product Availability       0.86      0.89      0.87       131\n",
      "    Product Comparison       0.80      0.66      0.72       113\n",
      "Product Specifications       0.71      0.79      0.74       117\n",
      "     Returns & Refunds       0.98      0.96      0.97       124\n",
      "      Sales/Promotions       0.99      0.96      0.98        82\n",
      "              Shipping       0.94      0.99      0.97       115\n",
      "\n",
      "              accuracy                           0.88       750\n",
      "             macro avg       0.89      0.89      0.89       750\n",
      "          weighted avg       0.88      0.88      0.88       750\n",
      "\n",
      "Dataset: Doc2Vector Data\n",
      "CV Weighted F1-Scores: [0.57934288 0.59322973 0.61371623 0.60068918 0.58654889]\n",
      "Avg CV Score: 0.5947053806139289\n",
      "                        precision    recall  f1-score   support\n",
      "\n",
      "           Omnichannel       0.62      0.68      0.65        68\n",
      "  Product Availability       0.55      0.63      0.59       131\n",
      "    Product Comparison       0.49      0.47      0.48       113\n",
      "Product Specifications       0.46      0.46      0.46       117\n",
      "     Returns & Refunds       0.62      0.56      0.59       124\n",
      "      Sales/Promotions       0.66      0.49      0.56        82\n",
      "              Shipping       0.59      0.65      0.62       115\n",
      "\n",
      "              accuracy                           0.56       750\n",
      "             macro avg       0.57      0.56      0.56       750\n",
      "          weighted avg       0.56      0.56      0.56       750\n",
      "\n"
     ]
    }
   ],
   "source": [
    "from sklearn.svm import LinearSVC\n",
    "\n",
    "# Initiating simple mode\n",
    "svc = LinearSVC()\n",
    "\n",
    "# Fitting and Scoring\n",
    "[svc_tfidf, svc_w2v, svc_d2v], scores = fit_score(svc, 'SV Classifier', datasets, labels)\n"
   ]
  },
  {
   "cell_type": "markdown",
   "metadata": {},
   "source": [
    "SVC appears to do pretty well in classification of document types especially when using the TFIDF method. I believe that the embedding that we attempted had too small of a data sample to be able to be trained properly. I tried to do transfer learning approaches but did not have a clear understanding of how to use them in gensim. The function (intersect_word2vec_format) that use to exist for this appeard to not be working in my latest version"
   ]
  },
  {
   "cell_type": "code",
   "execution_count": 16,
   "metadata": {},
   "outputs": [
    {
     "data": {
      "text/html": [
       "<div>\n",
       "<style scoped>\n",
       "    .dataframe tbody tr th:only-of-type {\n",
       "        vertical-align: middle;\n",
       "    }\n",
       "\n",
       "    .dataframe tbody tr th {\n",
       "        vertical-align: top;\n",
       "    }\n",
       "\n",
       "    .dataframe thead th {\n",
       "        text-align: right;\n",
       "    }\n",
       "</style>\n",
       "<table border=\"1\" class=\"dataframe\">\n",
       "  <thead>\n",
       "    <tr style=\"text-align: right;\">\n",
       "      <th></th>\n",
       "      <th>Model</th>\n",
       "      <th>Dataset</th>\n",
       "      <th>Precision</th>\n",
       "      <th>Recall</th>\n",
       "      <th>F1 Score</th>\n",
       "    </tr>\n",
       "  </thead>\n",
       "  <tbody>\n",
       "    <tr>\n",
       "      <th>0</th>\n",
       "      <td>SV Classifier</td>\n",
       "      <td>TFIDF</td>\n",
       "      <td>0.957385</td>\n",
       "      <td>0.957333</td>\n",
       "      <td>0.957238</td>\n",
       "    </tr>\n",
       "    <tr>\n",
       "      <th>1</th>\n",
       "      <td>SV Classifier</td>\n",
       "      <td>Avg W2V Data</td>\n",
       "      <td>0.885674</td>\n",
       "      <td>0.881333</td>\n",
       "      <td>0.882211</td>\n",
       "    </tr>\n",
       "    <tr>\n",
       "      <th>2</th>\n",
       "      <td>SV Classifier</td>\n",
       "      <td>Doc2Vector Data</td>\n",
       "      <td>0.566537</td>\n",
       "      <td>0.560000</td>\n",
       "      <td>0.561100</td>\n",
       "    </tr>\n",
       "  </tbody>\n",
       "</table>\n",
       "</div>"
      ],
      "text/plain": [
       "           Model          Dataset  Precision    Recall  F1 Score\n",
       "0  SV Classifier            TFIDF   0.957385  0.957333  0.957238\n",
       "1  SV Classifier     Avg W2V Data   0.885674  0.881333  0.882211\n",
       "2  SV Classifier  Doc2Vector Data   0.566537  0.560000  0.561100"
      ]
     },
     "execution_count": 16,
     "metadata": {},
     "output_type": "execute_result"
    }
   ],
   "source": [
    "# Display SVC Scores\n",
    "pd.DataFrame(scores).sort_values('F1 Score', ascending=False)"
   ]
  },
  {
   "cell_type": "markdown",
   "metadata": {},
   "source": [
    "## RandomForest"
   ]
  },
  {
   "cell_type": "code",
   "execution_count": 17,
   "metadata": {},
   "outputs": [
    {
     "name": "stdout",
     "output_type": "stream",
     "text": [
      "Dataset: TFIDF\n",
      "CV Weighted F1-Scores: [0.93184506 0.94563494 0.94249841 0.94816488 0.93583199]\n",
      "Avg CV Score: 0.9407950552169991\n",
      "                        precision    recall  f1-score   support\n",
      "\n",
      "           Omnichannel       0.99      0.97      0.98        68\n",
      "  Product Availability       0.93      0.98      0.96       131\n",
      "    Product Comparison       0.93      0.94      0.93       113\n",
      "Product Specifications       0.93      0.91      0.92       117\n",
      "     Returns & Refunds       0.98      1.00      0.99       124\n",
      "      Sales/Promotions       1.00      0.93      0.96        82\n",
      "              Shipping       1.00      0.99      1.00       115\n",
      "\n",
      "              accuracy                           0.96       750\n",
      "             macro avg       0.97      0.96      0.96       750\n",
      "          weighted avg       0.96      0.96      0.96       750\n",
      "\n",
      "Dataset: Avg W2V Data\n",
      "CV Weighted F1-Scores: [0.90034004 0.91953115 0.90127875 0.90495221 0.88368582]\n",
      "Avg CV Score: 0.9019575945526329\n",
      "                        precision    recall  f1-score   support\n",
      "\n",
      "           Omnichannel       0.97      0.94      0.96        68\n",
      "  Product Availability       0.92      0.92      0.92       131\n",
      "    Product Comparison       0.83      0.86      0.84       113\n",
      "Product Specifications       0.83      0.81      0.82       117\n",
      "     Returns & Refunds       0.97      0.99      0.98       124\n",
      "      Sales/Promotions       0.97      0.95      0.96        82\n",
      "              Shipping       0.99      1.00      1.00       115\n",
      "\n",
      "              accuracy                           0.92       750\n",
      "             macro avg       0.93      0.92      0.93       750\n",
      "          weighted avg       0.92      0.92      0.92       750\n",
      "\n",
      "Dataset: Doc2Vector Data\n",
      "CV Weighted F1-Scores: [0.71990639 0.70907089 0.74500782 0.72563841 0.73520274]\n",
      "Avg CV Score: 0.7269652497621933\n",
      "                        precision    recall  f1-score   support\n",
      "\n",
      "           Omnichannel       0.82      0.85      0.83        68\n",
      "  Product Availability       0.80      0.86      0.83       131\n",
      "    Product Comparison       0.65      0.58      0.62       113\n",
      "Product Specifications       0.61      0.71      0.66       117\n",
      "     Returns & Refunds       0.77      0.75      0.76       124\n",
      "      Sales/Promotions       0.93      0.70      0.80        82\n",
      "              Shipping       0.75      0.77      0.76       115\n",
      "\n",
      "              accuracy                           0.75       750\n",
      "             macro avg       0.76      0.75      0.75       750\n",
      "          weighted avg       0.75      0.75      0.75       750\n",
      "\n"
     ]
    }
   ],
   "source": [
    "from sklearn.ensemble import RandomForestClassifier\n",
    "\n",
    "rfc = RandomForestClassifier()\n",
    "\n",
    "# Fitting and Scoring\n",
    "[rfc_tfidf, rfc_w2v, rfc_d2v], rfc_scores = fit_score(rfc, 'RF Classifier', datasets, labels)\n",
    "\n",
    "# adding rfc scores to scores\n",
    "scores.extend(rfc_scores)\n"
   ]
  },
  {
   "cell_type": "markdown",
   "metadata": {},
   "source": [
    "It appears that the RF Classifier performs better in comparison to the SV Classifier across all dataset. The difference in performance is more noticeable in the two embedded datasets, but only slight (F1 = +.04%) for the TfiDf dataset."
   ]
  },
  {
   "cell_type": "code",
   "execution_count": 18,
   "metadata": {},
   "outputs": [
    {
     "data": {
      "text/html": [
       "<div>\n",
       "<style scoped>\n",
       "    .dataframe tbody tr th:only-of-type {\n",
       "        vertical-align: middle;\n",
       "    }\n",
       "\n",
       "    .dataframe tbody tr th {\n",
       "        vertical-align: top;\n",
       "    }\n",
       "\n",
       "    .dataframe thead th {\n",
       "        text-align: right;\n",
       "    }\n",
       "</style>\n",
       "<table border=\"1\" class=\"dataframe\">\n",
       "  <thead>\n",
       "    <tr style=\"text-align: right;\">\n",
       "      <th></th>\n",
       "      <th>Model</th>\n",
       "      <th>Dataset</th>\n",
       "      <th>Precision</th>\n",
       "      <th>Recall</th>\n",
       "      <th>F1 Score</th>\n",
       "    </tr>\n",
       "  </thead>\n",
       "  <tbody>\n",
       "    <tr>\n",
       "      <th>3</th>\n",
       "      <td>RF Classifier</td>\n",
       "      <td>TFIDF</td>\n",
       "      <td>0.962100</td>\n",
       "      <td>0.961333</td>\n",
       "      <td>0.961376</td>\n",
       "    </tr>\n",
       "    <tr>\n",
       "      <th>0</th>\n",
       "      <td>SV Classifier</td>\n",
       "      <td>TFIDF</td>\n",
       "      <td>0.957385</td>\n",
       "      <td>0.957333</td>\n",
       "      <td>0.957238</td>\n",
       "    </tr>\n",
       "    <tr>\n",
       "      <th>4</th>\n",
       "      <td>RF Classifier</td>\n",
       "      <td>Avg W2V Data</td>\n",
       "      <td>0.923030</td>\n",
       "      <td>0.922667</td>\n",
       "      <td>0.922724</td>\n",
       "    </tr>\n",
       "    <tr>\n",
       "      <th>1</th>\n",
       "      <td>SV Classifier</td>\n",
       "      <td>Avg W2V Data</td>\n",
       "      <td>0.885674</td>\n",
       "      <td>0.881333</td>\n",
       "      <td>0.882211</td>\n",
       "    </tr>\n",
       "    <tr>\n",
       "      <th>5</th>\n",
       "      <td>RF Classifier</td>\n",
       "      <td>Doc2Vector Data</td>\n",
       "      <td>0.750537</td>\n",
       "      <td>0.745333</td>\n",
       "      <td>0.745267</td>\n",
       "    </tr>\n",
       "    <tr>\n",
       "      <th>2</th>\n",
       "      <td>SV Classifier</td>\n",
       "      <td>Doc2Vector Data</td>\n",
       "      <td>0.566537</td>\n",
       "      <td>0.560000</td>\n",
       "      <td>0.561100</td>\n",
       "    </tr>\n",
       "  </tbody>\n",
       "</table>\n",
       "</div>"
      ],
      "text/plain": [
       "           Model          Dataset  Precision    Recall  F1 Score\n",
       "3  RF Classifier            TFIDF   0.962100  0.961333  0.961376\n",
       "0  SV Classifier            TFIDF   0.957385  0.957333  0.957238\n",
       "4  RF Classifier     Avg W2V Data   0.923030  0.922667  0.922724\n",
       "1  SV Classifier     Avg W2V Data   0.885674  0.881333  0.882211\n",
       "5  RF Classifier  Doc2Vector Data   0.750537  0.745333  0.745267\n",
       "2  SV Classifier  Doc2Vector Data   0.566537  0.560000  0.561100"
      ]
     },
     "execution_count": 18,
     "metadata": {},
     "output_type": "execute_result"
    }
   ],
   "source": [
    "# Displaying top candidates\n",
    "pd.DataFrame(scores).sort_values('F1 Score', ascending=False)"
   ]
  },
  {
   "cell_type": "markdown",
   "metadata": {},
   "source": [
    "## TF Keras Deep Learning "
   ]
  },
  {
   "cell_type": "markdown",
   "metadata": {},
   "source": [
    "### Deep Learning Model"
   ]
  },
  {
   "cell_type": "code",
   "execution_count": 19,
   "metadata": {},
   "outputs": [],
   "source": [
    "from keras.models import Sequential\n",
    "from keras.layers.core import Dense, Dropout, Activation\n",
    "from keras.utils import np_utils\n",
    "\n",
    "def deep_learner_classifier(classes:int, dropout_p:float, activation:str, input_shape:tuple):\n",
    "    \"\"\"Basic Deep Learner Classifer for text\n",
    "\n",
    "    Args:\n",
    "        classes (int): number of classes to predict\n",
    "        dropout_p (float): percentage of drop out per each layer\n",
    "        activation (str): type of activation function to be used per layer\n",
    "        input_shape (tuple): shape of the input for the first layer\n",
    "\n",
    "    Returns:\n",
    "        tf.keras.models.Sequential: a model compiled for fitting\n",
    "    \"\"\"\n",
    "    model = Sequential()\n",
    "    model.add(Dense(1024, input_shape=input_shape))\n",
    "    model.add(Activation(activation))\n",
    "    model.add(Dropout(dropout_p))\n",
    "    model.add(Dense(512))\n",
    "    model.add(Activation(activation))\n",
    "    model.add(Dropout(dropout_p))\n",
    "    model.add(Dense(64))\n",
    "    model.add(Activation(activation))\n",
    "    model.add(Dropout(dropout_p))\n",
    "    model.add(Dense(classes))\n",
    "    model.add(Activation('softmax'))\n",
    "    model.compile(loss='categorical_crossentropy', optimizer='adam', metrics=['accuracy'])\n",
    "    return model"
   ]
  },
  {
   "cell_type": "markdown",
   "metadata": {},
   "source": [
    "### General Parameters & Encoding Labels\n",
    "\n",
    "Setting general params that can be used accross models"
   ]
  },
  {
   "cell_type": "code",
   "execution_count": 20,
   "metadata": {},
   "outputs": [],
   "source": [
    "# Setting Parameters\n",
    "CLASSES = len(encoder.classes_)\n",
    "BATCH_SIZE = 64\n",
    "DROPOUT = 0.1\n",
    "ACTIVATION = 'relu'\n",
    "\n",
    "# Crating One-Hot Econders for Categories\n",
    "y_train_tf = np_utils.to_categorical(y_train, CLASSES)\n",
    "y_test_tf = np_utils.to_categorical(y_test, CLASSES)\n"
   ]
  },
  {
   "cell_type": "markdown",
   "metadata": {},
   "source": [
    "### Scoring Function"
   ]
  },
  {
   "cell_type": "code",
   "execution_count": 21,
   "metadata": {},
   "outputs": [],
   "source": [
    "def score_deep_learner(model, X_test, model_name, data_name):\n",
    "    # true labels\n",
    "    y_true = [np.argmax(arr) for arr in y_test_tf]\n",
    "    # predict\n",
    "    y_predict = [np.argmax(arr) for arr in model.predict(X_test)]\n",
    "    # classification report\n",
    "    target_names = encoder.classes_\n",
    "    # print report\n",
    "    print(classification_report(y_true, y_predict, target_names=target_names))\n",
    "    # soring function to iterate\n",
    "    scores_functions = {'Precision':precision_score, 'Recall':recall_score, 'F1 Score': f1_score}\n",
    "    # dictionary for model\n",
    "    model_scores = {'Model': model_name, 'Dataset': data_name}\n",
    "    # add scores\n",
    "    for name, function in scores_functions.items():\n",
    "        score = function(y_predict, y_true, average='weighted')\n",
    "        model_scores[name] = score\n",
    "    return model_scores\n"
   ]
  },
  {
   "cell_type": "markdown",
   "metadata": {},
   "source": [
    "### TFIDF Deep Learner"
   ]
  },
  {
   "cell_type": "code",
   "execution_count": 22,
   "metadata": {},
   "outputs": [
    {
     "name": "stderr",
     "output_type": "stream",
     "text": [
      "2021-10-17 23:07:25.988234: I tensorflow/core/platform/cpu_feature_guard.cc:142] This TensorFlow binary is optimized with oneAPI Deep Neural Network Library (oneDNN) to use the following CPU instructions in performance-critical operations:  AVX2 FMA\n",
      "To enable them in other operations, rebuild TensorFlow with the appropriate compiler flags.\n",
      "2021-10-17 23:07:26.593309: I tensorflow/compiler/mlir/mlir_graph_optimization_pass.cc:185] None of the MLIR Optimization Passes are enabled (registered 2)\n"
     ]
    },
    {
     "name": "stdout",
     "output_type": "stream",
     "text": [
      "Epoch 1/5\n",
      "67/67 [==============================] - 3s 29ms/step - loss: 0.7674 - accuracy: 0.7696 - val_loss: 0.1748 - val_accuracy: 0.9387\n",
      "Epoch 2/5\n",
      "67/67 [==============================] - 2s 26ms/step - loss: 0.0900 - accuracy: 0.9734 - val_loss: 0.1212 - val_accuracy: 0.9587\n",
      "Epoch 3/5\n",
      "67/67 [==============================] - 2s 34ms/step - loss: 0.0326 - accuracy: 0.9904 - val_loss: 0.1342 - val_accuracy: 0.9653\n",
      "Epoch 4/5\n",
      "67/67 [==============================] - 3s 40ms/step - loss: 0.0167 - accuracy: 0.9960 - val_loss: 0.1476 - val_accuracy: 0.9547\n",
      "Epoch 5/5\n",
      "67/67 [==============================] - 2s 32ms/step - loss: 0.0125 - accuracy: 0.9969 - val_loss: 0.1298 - val_accuracy: 0.9640\n",
      "                        precision    recall  f1-score   support\n",
      "\n",
      "           Omnichannel       1.00      1.00      1.00        68\n",
      "  Product Availability       0.92      0.98      0.95       131\n",
      "    Product Comparison       0.93      0.91      0.92       113\n",
      "Product Specifications       0.93      0.91      0.92       117\n",
      "     Returns & Refunds       1.00      1.00      1.00       124\n",
      "      Sales/Promotions       1.00      0.95      0.97        82\n",
      "              Shipping       1.00      1.00      1.00       115\n",
      "\n",
      "              accuracy                           0.96       750\n",
      "             macro avg       0.97      0.96      0.97       750\n",
      "          weighted avg       0.96      0.96      0.96       750\n",
      "\n"
     ]
    }
   ],
   "source": [
    "# Params for TFIDF\n",
    "INPUT_SHAPE = (5000,)                                           # Matching the size of the vocab vectors\n",
    "EPOCHS = 5                                                      # Limiting amount of epochs for trial\n",
    "\n",
    "# Initializing model\n",
    "tfidf_dl = deep_learner_classifier(classes=CLASSES, dropout_p=DROPOUT, activation=ACTIVATION, input_shape=INPUT_SHAPE)\n",
    "\n",
    "# Fitting\n",
    "tfidf_dl.fit(X_train_tfidf.toarray(), y_train_tf, validation_data=(X_test_tfidf.toarray(), y_test_tf), batch_size=BATCH_SIZE, epochs=EPOCHS)\n",
    "\n",
    "# Score\n",
    "tfidf_dl_score = score_deep_learner(tfidf_dl, X_test_tfidf.toarray(), 'Deep Learner', 'TFIDF')\n"
   ]
  },
  {
   "cell_type": "markdown",
   "metadata": {},
   "source": [
    "### Avg. Word2Vec Deep Learner"
   ]
  },
  {
   "cell_type": "code",
   "execution_count": 23,
   "metadata": {},
   "outputs": [
    {
     "name": "stdout",
     "output_type": "stream",
     "text": [
      "Epoch 1/5\n",
      "67/67 [==============================] - 1s 9ms/step - loss: 0.7904 - accuracy: 0.7096 - val_loss: 0.4563 - val_accuracy: 0.7933\n",
      "Epoch 2/5\n",
      "67/67 [==============================] - 0s 6ms/step - loss: 0.4968 - accuracy: 0.7899 - val_loss: 0.4195 - val_accuracy: 0.8147\n",
      "Epoch 3/5\n",
      "67/67 [==============================] - 1s 8ms/step - loss: 0.4347 - accuracy: 0.8054 - val_loss: 0.3962 - val_accuracy: 0.8253\n",
      "Epoch 4/5\n",
      "67/67 [==============================] - 0s 6ms/step - loss: 0.3947 - accuracy: 0.8308 - val_loss: 0.3769 - val_accuracy: 0.8373\n",
      "Epoch 5/5\n",
      "67/67 [==============================] - 0s 6ms/step - loss: 0.3852 - accuracy: 0.8313 - val_loss: 0.3702 - val_accuracy: 0.8227\n",
      "                        precision    recall  f1-score   support\n",
      "\n",
      "           Omnichannel       0.90      0.96      0.93        68\n",
      "  Product Availability       0.85      0.89      0.87       131\n",
      "    Product Comparison       0.53      0.90      0.67       113\n",
      "Product Specifications       0.87      0.22      0.35       117\n",
      "     Returns & Refunds       0.92      0.98      0.95       124\n",
      "      Sales/Promotions       1.00      0.93      0.96        82\n",
      "              Shipping       0.99      0.96      0.97       115\n",
      "\n",
      "              accuracy                           0.82       750\n",
      "             macro avg       0.87      0.83      0.81       750\n",
      "          weighted avg       0.86      0.82      0.80       750\n",
      "\n"
     ]
    }
   ],
   "source": [
    "# Params for Avg Word2Vec\n",
    "INPUT_SHAPE = (100,)                                                            # Matching the size of the embedded vectors\n",
    "EPOCHS = 5                                                                      # Number of training epochs limited as very little validation loss experienced before signs of overfitting in training\n",
    "\n",
    "# Initializing model\n",
    "w2v_dl = deep_learner_classifier(classes=CLASSES, dropout_p=DROPOUT, activation=ACTIVATION, input_shape=INPUT_SHAPE)\n",
    "\n",
    "\n",
    "# Fitting\n",
    "w2v_dl.fit(avg_w2v_train_x, y_train_tf, validation_data=(avg_w2v_test_x, y_test_tf), batch_size=BATCH_SIZE, epochs=EPOCHS)\n",
    "\n",
    "# Score\n",
    "w2v_dl_score = score_deep_learner(w2v_dl, avg_w2v_test_x, 'Deep Learner', 'Avg W2V Data')"
   ]
  },
  {
   "cell_type": "markdown",
   "metadata": {},
   "source": [
    "### Doc2Vec Deep Learner"
   ]
  },
  {
   "cell_type": "code",
   "execution_count": 24,
   "metadata": {},
   "outputs": [
    {
     "name": "stdout",
     "output_type": "stream",
     "text": [
      "Epoch 1/5\n",
      "67/67 [==============================] - 1s 11ms/step - loss: 1.5117 - accuracy: 0.4261 - val_loss: 1.2299 - val_accuracy: 0.5573\n",
      "Epoch 2/5\n",
      "67/67 [==============================] - 0s 6ms/step - loss: 1.0930 - accuracy: 0.6115 - val_loss: 1.0712 - val_accuracy: 0.6253\n",
      "Epoch 3/5\n",
      "67/67 [==============================] - 1s 8ms/step - loss: 0.8718 - accuracy: 0.7075 - val_loss: 0.9523 - val_accuracy: 0.6693\n",
      "Epoch 4/5\n",
      "67/67 [==============================] - 0s 6ms/step - loss: 0.7024 - accuracy: 0.7664 - val_loss: 0.8269 - val_accuracy: 0.7307\n",
      "Epoch 5/5\n",
      "67/67 [==============================] - 1s 8ms/step - loss: 0.5565 - accuracy: 0.8174 - val_loss: 0.8404 - val_accuracy: 0.7347\n",
      "                        precision    recall  f1-score   support\n",
      "\n",
      "           Omnichannel       0.33      0.29      0.31        68\n",
      "  Product Availability       0.35      0.50      0.41       131\n",
      "    Product Comparison       0.23      0.46      0.30       113\n",
      "Product Specifications       0.33      0.12      0.18       117\n",
      "     Returns & Refunds       0.41      0.37      0.39       124\n",
      "      Sales/Promotions       0.48      0.17      0.25        82\n",
      "              Shipping       0.31      0.23      0.26       115\n",
      "\n",
      "              accuracy                           0.32       750\n",
      "             macro avg       0.35      0.31      0.30       750\n",
      "          weighted avg       0.34      0.32      0.30       750\n",
      "\n"
     ]
    }
   ],
   "source": [
    "# Params for Doc2Vec\n",
    "INPUT_SHAPE = (100,)                                                            # Matching the size of the embedded vectors\n",
    "EPOCHS = 5                                                                      # Number of training epochs limited as very little validation loss experienced before signs of overfitting in training\n",
    "\n",
    "# Initializing model\n",
    "d2v_dl = deep_learner_classifier(classes=CLASSES, dropout_p=DROPOUT, activation=ACTIVATION, input_shape=INPUT_SHAPE)\n",
    "\n",
    "\n",
    "# Fitting\n",
    "d2v_dl.fit(np.array(d2v_train_x), y_train_tf, validation_data=(np.array(d2v_test_x), y_test_tf), batch_size=BATCH_SIZE, epochs=EPOCHS)\n",
    "\n",
    "# Score\n",
    "d2v_dl_score = score_deep_learner(w2v_dl, np.array(d2v_test_x), 'Deep Learner', 'Doc2Vector Data')"
   ]
  },
  {
   "cell_type": "markdown",
   "metadata": {},
   "source": [
    "It appears that out of all the Deep Learning models attempted the one with the TFIDF data appears to perform best in comparison to the W2V and D2V models by 10-20% more"
   ]
  },
  {
   "cell_type": "code",
   "execution_count": 25,
   "metadata": {},
   "outputs": [],
   "source": [
    "# Appending DL Scores \n",
    "scores.append(tfidf_dl_score)\n",
    "scores.append(w2v_dl_score)\n",
    "scores.append(d2v_dl_score)\n",
    "\n",
    "scores_df = pd.DataFrame(scores)"
   ]
  },
  {
   "cell_type": "markdown",
   "metadata": {},
   "source": [
    "# Evaluation\n",
    "While the Deep Learner and Random Forest Classifier performed best, out of the three models and data transformations attempted for text classification, I would pick the SVC with TfiDf simply because it provides only slightly smaller f1-score (0.07%) than the next best model while providing the most simplicity. This makes this model easier to undestand, avoids overfitting and provides faster performance."
   ]
  },
  {
   "cell_type": "code",
   "execution_count": 26,
   "metadata": {},
   "outputs": [
    {
     "data": {
      "text/html": [
       "<div>\n",
       "<style scoped>\n",
       "    .dataframe tbody tr th:only-of-type {\n",
       "        vertical-align: middle;\n",
       "    }\n",
       "\n",
       "    .dataframe tbody tr th {\n",
       "        vertical-align: top;\n",
       "    }\n",
       "\n",
       "    .dataframe thead th {\n",
       "        text-align: right;\n",
       "    }\n",
       "</style>\n",
       "<table border=\"1\" class=\"dataframe\">\n",
       "  <thead>\n",
       "    <tr style=\"text-align: right;\">\n",
       "      <th></th>\n",
       "      <th>Model</th>\n",
       "      <th>Dataset</th>\n",
       "      <th>Precision</th>\n",
       "      <th>Recall</th>\n",
       "      <th>F1 Score</th>\n",
       "    </tr>\n",
       "  </thead>\n",
       "  <tbody>\n",
       "    <tr>\n",
       "      <th>6</th>\n",
       "      <td>Deep Learner</td>\n",
       "      <td>TFIDF</td>\n",
       "      <td>0.964689</td>\n",
       "      <td>0.964000</td>\n",
       "      <td>0.964050</td>\n",
       "    </tr>\n",
       "    <tr>\n",
       "      <th>3</th>\n",
       "      <td>RF Classifier</td>\n",
       "      <td>TFIDF</td>\n",
       "      <td>0.962100</td>\n",
       "      <td>0.961333</td>\n",
       "      <td>0.961376</td>\n",
       "    </tr>\n",
       "    <tr>\n",
       "      <th>0</th>\n",
       "      <td>SV Classifier</td>\n",
       "      <td>TFIDF</td>\n",
       "      <td>0.957385</td>\n",
       "      <td>0.957333</td>\n",
       "      <td>0.957238</td>\n",
       "    </tr>\n",
       "    <tr>\n",
       "      <th>4</th>\n",
       "      <td>RF Classifier</td>\n",
       "      <td>Avg W2V Data</td>\n",
       "      <td>0.923030</td>\n",
       "      <td>0.922667</td>\n",
       "      <td>0.922724</td>\n",
       "    </tr>\n",
       "    <tr>\n",
       "      <th>1</th>\n",
       "      <td>SV Classifier</td>\n",
       "      <td>Avg W2V Data</td>\n",
       "      <td>0.885674</td>\n",
       "      <td>0.881333</td>\n",
       "      <td>0.882211</td>\n",
       "    </tr>\n",
       "    <tr>\n",
       "      <th>7</th>\n",
       "      <td>Deep Learner</td>\n",
       "      <td>Avg W2V Data</td>\n",
       "      <td>0.902260</td>\n",
       "      <td>0.822667</td>\n",
       "      <td>0.842001</td>\n",
       "    </tr>\n",
       "    <tr>\n",
       "      <th>5</th>\n",
       "      <td>RF Classifier</td>\n",
       "      <td>Doc2Vector Data</td>\n",
       "      <td>0.750537</td>\n",
       "      <td>0.745333</td>\n",
       "      <td>0.745267</td>\n",
       "    </tr>\n",
       "    <tr>\n",
       "      <th>2</th>\n",
       "      <td>SV Classifier</td>\n",
       "      <td>Doc2Vector Data</td>\n",
       "      <td>0.566537</td>\n",
       "      <td>0.560000</td>\n",
       "      <td>0.561100</td>\n",
       "    </tr>\n",
       "    <tr>\n",
       "      <th>8</th>\n",
       "      <td>Deep Learner</td>\n",
       "      <td>Doc2Vector Data</td>\n",
       "      <td>0.387774</td>\n",
       "      <td>0.317333</td>\n",
       "      <td>0.329950</td>\n",
       "    </tr>\n",
       "  </tbody>\n",
       "</table>\n",
       "</div>"
      ],
      "text/plain": [
       "           Model          Dataset  Precision    Recall  F1 Score\n",
       "6   Deep Learner            TFIDF   0.964689  0.964000  0.964050\n",
       "3  RF Classifier            TFIDF   0.962100  0.961333  0.961376\n",
       "0  SV Classifier            TFIDF   0.957385  0.957333  0.957238\n",
       "4  RF Classifier     Avg W2V Data   0.923030  0.922667  0.922724\n",
       "1  SV Classifier     Avg W2V Data   0.885674  0.881333  0.882211\n",
       "7   Deep Learner     Avg W2V Data   0.902260  0.822667  0.842001\n",
       "5  RF Classifier  Doc2Vector Data   0.750537  0.745333  0.745267\n",
       "2  SV Classifier  Doc2Vector Data   0.566537  0.560000  0.561100\n",
       "8   Deep Learner  Doc2Vector Data   0.387774  0.317333  0.329950"
      ]
     },
     "execution_count": 26,
     "metadata": {},
     "output_type": "execute_result"
    }
   ],
   "source": [
    "scores_df.sort_values('F1 Score', ascending=False)"
   ]
  },
  {
   "cell_type": "markdown",
   "metadata": {},
   "source": [
    "# Out-of-Sample Evaluation"
   ]
  },
  {
   "cell_type": "code",
   "execution_count": 27,
   "metadata": {},
   "outputs": [],
   "source": [
    "import spacy\n",
    "# Create pipeline func for cleaning tfidf, word2vec, doc2vec\n",
    "def predict_pipeline(model, data, labels, transformation, deep_learner=False):\n",
    "    # convert to spacy and clean\n",
    "    nlp = spacy.load(library)\n",
    "    docs = [clean_spacy_text(nlp(text)) for text in data]\n",
    "    # transformation type\n",
    "    if transformation == 'tfidf':\n",
    "        docs = tfidf.transform(docs)\n",
    "    if transformation == 'word2vec':\n",
    "        docs = sent_tokenizer(docs)\n",
    "        docs = [average_word_vectors(doc, w2v, vocab, EMBEDDING_DIM) for doc in docs]\n",
    "    if transformation == 'doc2vec':\n",
    "        docs = sent_tokenizer(docs)\n",
    "        docs = [d2v.infer_vector(doc) for doc in docs]\n",
    "    # make predictions\n",
    "    if deep_learner:\n",
    "        if transformation == 'tfidf':\n",
    "            docs = docs.toarray()\n",
    "        if transformation == 'doc2vec':\n",
    "            docs = np.array(docs)\n",
    "        predictions = [np.array(np.argmax(arr)) for arr in model.predict(docs)]\n",
    "    else:\n",
    "        predictions = model.predict(docs)\n",
    "    print('Actual --> Predicted')\n",
    "    for i, pred in enumerate(predictions):\n",
    "        print(\"['{1}'] --> {0}\".format(encoder.inverse_transform(pred.ravel()), labels[i]))\n"
   ]
  },
  {
   "cell_type": "code",
   "execution_count": 30,
   "metadata": {},
   "outputs": [
    {
     "name": "stdout",
     "output_type": "stream",
     "text": [
      "SVC - TFIDF\n",
      "Actual --> Predicted\n",
      "['Shipping'] --> ['Shipping']\n",
      "['Returns & Refunds'] --> ['Returns & Refunds']\n",
      "['Sales/Promotions'] --> ['Sales/Promotions']\n",
      "['Product Availability'] --> ['Product Availability']\n",
      "['Product Specification'] --> ['Product Availability']\n",
      "\n",
      "RFC - TFIDF\n",
      "Actual --> Predicted\n",
      "['Shipping'] --> ['Shipping']\n",
      "['Returns & Refunds'] --> ['Returns & Refunds']\n",
      "['Sales/Promotions'] --> ['Sales/Promotions']\n",
      "['Product Availability'] --> ['Product Availability']\n",
      "['Product Specification'] --> ['Product Availability']\n",
      "\n",
      "Deep Learner - TFIDF\n",
      "Actual --> Predicted\n",
      "['Shipping'] --> ['Shipping']\n",
      "['Returns & Refunds'] --> ['Returns & Refunds']\n",
      "['Sales/Promotions'] --> ['Sales/Promotions']\n",
      "['Product Availability'] --> ['Product Availability']\n",
      "['Product Specification'] --> ['Product Availability']\n"
     ]
    }
   ],
   "source": [
    "text1 = \"Hello, I was wondering if you are able to provide expedite shipping for item (9292323) to Tampa, FL?\" # --> Shipping\n",
    "text2 = \"The polo shirt that I received is size small instead of the medium I ordered. Can you send me a return label? I should not have to pay for this either.\" #--> Returns\n",
    "text3 = \"Are there any promo codes available for products in your gaming and entertaiment?\" #--> Sales/Promotions\n",
    "text4 = \"Do you have any men's pants that I could buy? I really liked the last ones I purchased.\" #--> Product Availability\n",
    "text5 = \"How long does the battery for the IPhone 13 last? I am looking to upgrade my phone.\" #--> Product Specification\n",
    "oos_test = [text1, text2, text3, text4, text5]\n",
    "class_labels = ['Shipping', 'Returns & Refunds', 'Sales/Promotions', 'Product Availability', 'Product Specification']\n",
    "\n",
    "\n",
    "# Compare Predictions\n",
    "print('SVC - TFIDF')\n",
    "predict_pipeline(svc_tfidf, oos_test, class_labels, transformation='tfidf')\n",
    "print('\\nRFC - TFIDF')\n",
    "predict_pipeline(rfc_tfidf, oos_test, class_labels, transformation='tfidf')\n",
    "print('\\nDeep Learner - TFIDF')\n",
    "predict_pipeline(tfidf_dl, oos_test, class_labels, transformation='tfidf', deep_learner=True)\n"
   ]
  },
  {
   "cell_type": "markdown",
   "metadata": {},
   "source": [
    "It appears that SVC, RFC and Deep Learner with TFIDF are able to correctly classify 4/5 out of the five samples. They all faill to classify the last query meant for Product Specifications. I imagine that the second phrase with the word I am looking is probabily throwing off this prediction. To improve from this error pre-trained embeddings could be used in transfer learning along with RNN models that may be able to pick up that both sentences refer to the same item and the question is referring to the real interest for the customer. This should also be noted and potentially question marks should not be deleted from cleaning"
   ]
  }
 ],
 "metadata": {
  "interpreter": {
   "hash": "03bfd060fb8b62b12cb6c2c7a2e99139baaf1a28976ffe5231208b56dd8dc23e"
  },
  "kernelspec": {
   "display_name": "Python 3.9.4 64-bit ('ISM6930-CY7GBNHA': pipenv)",
   "name": "python3"
  },
  "language_info": {
   "codemirror_mode": {
    "name": "ipython",
    "version": 3
   },
   "file_extension": ".py",
   "mimetype": "text/x-python",
   "name": "python",
   "nbconvert_exporter": "python",
   "pygments_lexer": "ipython3",
   "version": "3.9.4"
  },
  "orig_nbformat": 4
 },
 "nbformat": 4,
 "nbformat_minor": 2
}
